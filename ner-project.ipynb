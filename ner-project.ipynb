{
 "cells": [
  {
   "cell_type": "markdown",
   "metadata": {},
   "source": [
    "# Named Entity Recognition (NER) using BiLSTM"
   ]
  },
  {
   "cell_type": "markdown",
   "metadata": {},
   "source": [
    "### Import Required Libraries"
   ]
  },
  {
   "cell_type": "code",
   "execution_count": null,
   "metadata": {
    "execution": {
     "iopub.execute_input": "2024-12-28T18:48:01.450346Z",
     "iopub.status.busy": "2024-12-28T18:48:01.450020Z",
     "iopub.status.idle": "2024-12-28T18:48:06.258692Z",
     "shell.execute_reply": "2024-12-28T18:48:06.258018Z",
     "shell.execute_reply.started": "2024-12-28T18:48:01.450317Z"
    },
    "trusted": true
   },
   "outputs": [],
   "source": [
    "import os\n",
    "import torch\n",
    "import numpy as np\n",
    "import matplotlib.pyplot as plt\n",
    "import seaborn as sns\n",
    "from sklearn.metrics import classification_report, confusion_matrix\n",
    "from tqdm import tqdm\n",
    "from typing import List, Dict, Any, Tuple, Optional\n",
    "from collections import Counter\n",
    "from torch import nn, optim\n",
    "from torch.utils.data import DataLoader, Dataset\n",
    "from transformers import AutoTokenizer\n"
   ]
  },
  {
   "cell_type": "markdown",
   "metadata": {},
   "source": [
    "### Dataset Loading Functions"
   ]
  },
  {
   "cell_type": "code",
   "execution_count": null,
   "metadata": {
    "execution": {
     "iopub.execute_input": "2024-12-28T18:48:06.259905Z",
     "iopub.status.busy": "2024-12-28T18:48:06.259591Z",
     "iopub.status.idle": "2024-12-28T18:48:06.266651Z",
     "shell.execute_reply": "2024-12-28T18:48:06.265756Z",
     "shell.execute_reply.started": "2024-12-28T18:48:06.259885Z"
    },
    "trusted": true
   },
   "outputs": [],
   "source": [
    "def load_dataset(data_dir: str):\n",
    "    \"\"\"\n",
    "    Loads text and annotation files to generate NER-ready data.\n",
    "\n",
    "    Args:\n",
    "        data_dir: Directory containing `.txt` and `.ann` files.\n",
    "\n",
    "    Returns:\n",
    "        A list of tuples (tokens, labels).\n",
    "    \"\"\"\n",
    "    data = []\n",
    "    for filename in os.listdir(data_dir):\n",
    "        if filename.endswith(\".txt\"):\n",
    "            text_path = os.path.join(data_dir, filename)\n",
    "            annotation_path = os.path.splitext(text_path)[0] + \".ann\"\n",
    "\n",
    "            # Load text\n",
    "            with open(text_path, 'r', encoding='utf-8') as text_file:\n",
    "                text = text_file.read()\n",
    "                tokens = text.split()\n",
    "\n",
    "            # Load annotations\n",
    "            entities = []\n",
    "            if os.path.exists(annotation_path):\n",
    "                with open(annotation_path, 'r', encoding='utf-8') as ann_file:\n",
    "                    for line in ann_file:\n",
    "                        if line.startswith(\"T\"):\n",
    "                            parts = line.strip().split('\\t')\n",
    "                            if len(parts) >= 3:\n",
    "                                entity_info = parts[1].split()\n",
    "                                label = entity_info[0]\n",
    "                                try:\n",
    "                                    start = int(entity_info[1].split(';')[0])\n",
    "                                    end = int(entity_info[2].split(';')[0])\n",
    "                                    entities.append({\"label\": label, \"start\": start, \"end\": end})\n",
    "                                except ValueError:\n",
    "                                    print(f\"Skipping malformed entity in {annotation_path}: {line}\")\n",
    "                                    continue\n",
    "\n",
    "            # Align tokens and labels\n",
    "            labels = align_tokens_with_entities(tokens, entities)\n",
    "            data.append((tokens, labels))\n",
    "\n",
    "    return data\n"
   ]
  },
  {
   "cell_type": "code",
   "execution_count": null,
   "metadata": {
    "execution": {
     "iopub.execute_input": "2024-12-28T18:48:06.268269Z",
     "iopub.status.busy": "2024-12-28T18:48:06.268042Z",
     "iopub.status.idle": "2024-12-28T18:48:06.283067Z",
     "shell.execute_reply": "2024-12-28T18:48:06.282487Z",
     "shell.execute_reply.started": "2024-12-28T18:48:06.268250Z"
    },
    "trusted": true
   },
   "outputs": [],
   "source": [
    "def align_tokens_with_entities(tokens: List[str], entities: List[Dict[str, int]]) -> List[str]:\n",
    "    \"\"\"\n",
    "    Align entities with tokens to generate BIO labels.\n",
    "\n",
    "    Args:\n",
    "        tokens: List of tokens.\n",
    "        entities: List of entities with their positions.\n",
    "\n",
    "    Returns:\n",
    "        A list of BIO labels aligned with tokens.\n",
    "    \"\"\"\n",
    "    labels = [\"O\"] * len(tokens)\n",
    "    token_starts = []\n",
    "    current_position = 0\n",
    "\n",
    "    for token in tokens:\n",
    "        token_starts.append(current_position)\n",
    "        current_position += len(token) + 1\n",
    "\n",
    "    for entity in entities:\n",
    "        for i, start_pos in enumerate(token_starts):\n",
    "            token_end_pos = start_pos + len(tokens[i])\n",
    "            if entity[\"start\"] <= start_pos and token_end_pos <= entity[\"end\"]:\n",
    "                labels[i] = f\"B-{entity['label']}\" if start_pos == entity[\"start\"] else f\"I-{entity['label']}\"\n",
    "\n",
    "    return labels"
   ]
  },
  {
   "cell_type": "markdown",
   "metadata": {},
   "source": [
    "### Load Dataset"
   ]
  },
  {
   "cell_type": "code",
   "execution_count": null,
   "metadata": {
    "execution": {
     "iopub.execute_input": "2024-12-28T18:48:06.284536Z",
     "iopub.status.busy": "2024-12-28T18:48:06.284293Z",
     "iopub.status.idle": "2024-12-28T18:48:09.892622Z",
     "shell.execute_reply": "2024-12-28T18:48:09.891794Z",
     "shell.execute_reply.started": "2024-12-28T18:48:06.284516Z"
    },
    "trusted": true
   },
   "outputs": [],
   "source": [
    "data_dir = \"/kaggle/input/maccrobat2020/MACCROBAT2020\"\n",
    "dataset = load_dataset(data_dir)"
   ]
  },
  {
   "cell_type": "markdown",
   "metadata": {},
   "source": [
    "### Vocabulary Implementation"
   ]
  },
  {
   "cell_type": "code",
   "execution_count": null,
   "metadata": {
    "execution": {
     "iopub.execute_input": "2024-12-28T18:48:09.893837Z",
     "iopub.status.busy": "2024-12-28T18:48:09.893542Z",
     "iopub.status.idle": "2024-12-28T18:48:09.904069Z",
     "shell.execute_reply": "2024-12-28T18:48:09.903021Z",
     "shell.execute_reply.started": "2024-12-28T18:48:09.893809Z"
    },
    "trusted": true
   },
   "outputs": [],
   "source": [
    "class Vocabulary():\n",
    "    \"\"\"\n",
    "    Handles mapping between tokens/labels and numerical indices\n",
    "    \"\"\"\n",
    "    def __init__(self, counter: Counter=None, specials: List[str]=[], min_freq: int=1):\n",
    "        self.stoi = dict() # String to index\n",
    "        self.itos = dict() # Index to string\n",
    "        if counter is not None:\n",
    "            idx = 0\n",
    "            # Add special tokens first\n",
    "            for s in specials:\n",
    "                self.stoi[s] = idx\n",
    "                self.itos[idx] = s\n",
    "                idx += 1\n",
    "\n",
    "            # Add frequent tokens\n",
    "            for tok, freq in counter.items():\n",
    "                if freq >= min_freq:\n",
    "                    self.stoi[tok] = idx\n",
    "                    self.itos[idx] = tok\n",
    "                    idx += 1\n",
    "\n",
    "    def save(self, path, fname):\n",
    "        \"\"\"Save vocabulary to file\"\"\"\n",
    "        state = {\"stoi\": self.stoi, \"itos\": self.itos}\n",
    "        with open(os.path.join(path, fname), 'w') as f:\n",
    "            json.dump(state, f)\n",
    "\n",
    "    def load(self, fpath):\n",
    "        \"\"\"Load vocabulary from file\"\"\"\n",
    "        with open(fpath, 'r') as f:\n",
    "            state = json.load(f)\n",
    "        self.stoi = {s: int(i) for s, i in state[\"stoi\"].items()}\n",
    "        self.itos = {int(i): s for i, s in state[\"itos\"].items()}\n",
    "\n",
    "    def __len__(self):\n",
    "        return len(self.itos)"
   ]
  },
  {
   "cell_type": "code",
   "execution_count": null,
   "metadata": {
    "execution": {
     "iopub.execute_input": "2024-12-28T18:48:09.905221Z",
     "iopub.status.busy": "2024-12-28T18:48:09.904894Z",
     "iopub.status.idle": "2024-12-28T18:48:09.917082Z",
     "shell.execute_reply": "2024-12-28T18:48:09.916086Z",
     "shell.execute_reply.started": "2024-12-28T18:48:09.905179Z"
    },
    "trusted": true
   },
   "outputs": [],
   "source": [
    "def build_vocab(data, min_freq=1):\n",
    "    \"\"\"Build vocabulary from token/label data\"\"\"\n",
    "    counter = Counter(data)\n",
    "    return Vocabulary(counter, specials=['<pad>', '<unk>'], min_freq=min_freq)"
   ]
  },
  {
   "cell_type": "markdown",
   "metadata": {},
   "source": [
    "### Dataset and DataLoader Implementation"
   ]
  },
  {
   "cell_type": "code",
   "execution_count": null,
   "metadata": {
    "execution": {
     "iopub.execute_input": "2024-12-28T18:48:09.918477Z",
     "iopub.status.busy": "2024-12-28T18:48:09.918182Z",
     "iopub.status.idle": "2024-12-28T18:48:09.933034Z",
     "shell.execute_reply": "2024-12-28T18:48:09.932266Z",
     "shell.execute_reply.started": "2024-12-28T18:48:09.918447Z"
    },
    "trusted": true
   },
   "outputs": [],
   "source": [
    "class NERDataset(Dataset):\n",
    "    \"\"\"\n",
    "    PyTorch Dataset class for NER data\n",
    "    \"\"\"\n",
    "    def __init__(self, data, vocab, label_vocab, window_size):\n",
    "        self.data = data\n",
    "        self.vocab = vocab # Token vocabulary\n",
    "        self.label_vocab = label_vocab # Label vocabulary\n",
    "        self.window_size = window_size\n",
    "\n",
    "    def __len__(self):\n",
    "        return len(self.data)\n",
    "\n",
    "    def __getitem__(self, idx):\n",
    "        \"\"\"Return numericalized tokens and labels\"\"\"\n",
    "        tokens, labels = self.data[idx]\n",
    "        # Convert tokens to indices\n",
    "        token_ids = [self.vocab.stoi.get(token, self.vocab.stoi['<unk>']) for token in tokens]\n",
    "        # Convert labels to indices\n",
    "        label_ids = [self.label_vocab.stoi[label] for label in labels]\n",
    "        return torch.tensor(token_ids), torch.tensor(label_ids)\n"
   ]
  },
  {
   "cell_type": "code",
   "execution_count": null,
   "metadata": {
    "execution": {
     "iopub.execute_input": "2024-12-28T18:48:09.935828Z",
     "iopub.status.busy": "2024-12-28T18:48:09.935609Z",
     "iopub.status.idle": "2024-12-28T18:48:09.949325Z",
     "shell.execute_reply": "2024-12-28T18:48:09.948438Z",
     "shell.execute_reply.started": "2024-12-28T18:48:09.935810Z"
    },
    "trusted": true
   },
   "outputs": [],
   "source": [
    "def pad_sequences(sequences, pad_value, max_length=None):\n",
    "    \"\"\"\n",
    "    Pads a list of sequences to the same length.\n",
    "\n",
    "    Args:\n",
    "        sequences: List of lists (e.g., tokens or labels).\n",
    "        pad_value: Value to use for padding.\n",
    "        max_length: Maximum length to pad to. If None, uses the length of the longest sequence.\n",
    "\n",
    "    Returns:\n",
    "        A list of padded sequences and the original lengths.\n",
    "    \"\"\"\n",
    "    if max_length is None:\n",
    "        max_length = max(len(seq) for seq in sequences)\n",
    "\n",
    "    padded_sequences = []\n",
    "    original_lengths = []\n",
    "\n",
    "    for seq in sequences:\n",
    "        original_lengths.append(len(seq))\n",
    "        padded_seq = seq + [pad_value] * (max_length - len(seq))\n",
    "        padded_sequences.append(padded_seq)\n",
    "\n",
    "    return padded_sequences, original_lengths"
   ]
  },
  {
   "cell_type": "code",
   "execution_count": null,
   "metadata": {
    "execution": {
     "iopub.execute_input": "2024-12-28T18:48:09.951111Z",
     "iopub.status.busy": "2024-12-28T18:48:09.950872Z",
     "iopub.status.idle": "2024-12-28T18:48:09.959281Z",
     "shell.execute_reply": "2024-12-28T18:48:09.958449Z",
     "shell.execute_reply.started": "2024-12-28T18:48:09.951092Z"
    },
    "trusted": true
   },
   "outputs": [],
   "source": [
    "def collate_fn_manual(batch):\n",
    "    \"\"\"\n",
    "    Custom collate function to pad tokens and labels manually in a batch.\n",
    "\n",
    "    Args:\n",
    "        batch: List of tuples (tokens, labels) from the dataset.\n",
    "\n",
    "    Returns:\n",
    "        Padded tensors for tokens and labels.\n",
    "    \"\"\"\n",
    "    tokens, labels = zip(*batch)\n",
    "    \n",
    "    # Convert to list of lists\n",
    "    tokens = [list(seq.numpy()) for seq in tokens]\n",
    "    labels = [list(seq.numpy()) for seq in labels]\n",
    "\n",
    "    # Pad tokens and labels\n",
    "    tokens_padded, _ = pad_sequences(tokens, pad_value=vocab.stoi['<pad>'])\n",
    "    labels_padded, _ = pad_sequences(labels, pad_value=label_vocab.stoi['<pad>'])\n",
    "\n",
    "    return torch.tensor(tokens_padded), torch.tensor(labels_padded)"
   ]
  },
  {
   "cell_type": "markdown",
   "metadata": {},
   "source": [
    "### Model Architecture"
   ]
  },
  {
   "cell_type": "code",
   "execution_count": null,
   "metadata": {
    "execution": {
     "iopub.execute_input": "2024-12-28T18:48:09.960529Z",
     "iopub.status.busy": "2024-12-28T18:48:09.960183Z",
     "iopub.status.idle": "2024-12-28T18:48:09.975179Z",
     "shell.execute_reply": "2024-12-28T18:48:09.974374Z",
     "shell.execute_reply.started": "2024-12-28T18:48:09.960481Z"
    },
    "trusted": true
   },
   "outputs": [],
   "source": [
    "class BiLSTMNER(nn.Module):\n",
    "    \"\"\"\n",
    "    Bidirectional LSTM model for NER\n",
    "    \"\"\"\n",
    "    def __init__(self, vocab_size, embed_dim, hidden_dim, num_classes, bidirectional=True, dropout=0.5):\n",
    "        super(BiLSTMNER, self).__init__()\n",
    "        # Embedding layer\n",
    "        self.embedding = nn.Embedding(vocab_size, embed_dim)\n",
    "        # BiLSTM layer\n",
    "        self.lstm = nn.LSTM(embed_dim, hidden_dim, bidirectional=bidirectional, batch_first=True)\n",
    "        self.dropout = nn.Dropout(dropout)\n",
    "        # Calculate LSTM output dimension\n",
    "        lstm_output_dim = hidden_dim * 2 if bidirectional else hidden_dim\n",
    "        # Final classification layer\n",
    "        self.fc = nn.Linear(lstm_output_dim, num_classes)\n",
    "\n",
    "    def forward(self, x):\n",
    "        # Embedding layer\n",
    "        x = self.embedding(x)\n",
    "        # LSTM layer\n",
    "        x, _ = self.lstm(x)\n",
    "        # Dropout\n",
    "        x = self.dropout(x)\n",
    "        # Final classification\n",
    "        x = self.fc(x)\n",
    "        return x\n"
   ]
  },
  {
   "cell_type": "markdown",
   "metadata": {},
   "source": [
    "### Training Setup"
   ]
  },
  {
   "cell_type": "code",
   "execution_count": null,
   "metadata": {
    "execution": {
     "iopub.execute_input": "2024-12-28T18:48:09.976292Z",
     "iopub.status.busy": "2024-12-28T18:48:09.975978Z",
     "iopub.status.idle": "2024-12-28T18:48:09.987650Z",
     "shell.execute_reply": "2024-12-28T18:48:09.986746Z",
     "shell.execute_reply.started": "2024-12-28T18:48:09.976264Z"
    },
    "trusted": true
   },
   "outputs": [],
   "source": [
    "# Training Loop\n",
    "def train_model(model, train_loader, val_loader, criterion, optimizer, epochs, device):\n",
    "    \"\"\"\n",
    "    Train the BiLSTM model\n",
    "    \"\"\"\n",
    "    model.to(device)\n",
    "    all_epoch_losses = []\n",
    "    all_predictions = []\n",
    "    all_labels = []\n",
    "\n",
    "    for epoch in range(epochs):\n",
    "        # Training mode\n",
    "        model.train()\n",
    "        train_loss = 0.0\n",
    "\n",
    "        # Training phase\n",
    "        for tokens, labels in tqdm(train_loader, desc=f\"Training Epoch {epoch+1}/{epochs}\"):\n",
    "            tokens, labels = tokens.to(device), labels.to(device)\n",
    "            optimizer.zero_grad()\n",
    "            # Forward pass\n",
    "            outputs = model(tokens)\n",
    "            \n",
    "            # Reshape for loss calculation\n",
    "            outputs = outputs.view(-1, outputs.shape[-1])\n",
    "            labels = labels.view(-1)\n",
    "            \n",
    "            # Calculate loss\n",
    "            loss = criterion(outputs, labels)\n",
    "            loss.backward()\n",
    "            optimizer.step()\n",
    "            train_loss += loss.item()\n",
    "\n",
    "            # Collect predictions for evaluation\n",
    "            predictions = outputs.argmax(dim=-1).cpu().numpy()\n",
    "            labels_np = labels.cpu().numpy()\n",
    "\n",
    "            # Filter out padding tokens\n",
    "            mask = labels_np != label_vocab.stoi['<pad>']\n",
    "            all_predictions.extend(predictions[mask])\n",
    "            all_labels.extend(labels_np[mask])\n",
    "\n",
    "        # Calculate average loss\n",
    "        mean_loss = train_loss / len(train_loader)\n",
    "        all_epoch_losses.append(mean_loss)\n",
    "        print(f\"Epoch {epoch+1}, Loss: {mean_loss:.4f}\")\n",
    "\n",
    "    # Final evaluation\n",
    "    print(\"\\nÉvaluation finale après entraînement :\")\n",
    "    report = classification_report(\n",
    "        all_labels,\n",
    "        all_predictions,\n",
    "        target_names=list(label_vocab.itos.values()),\n",
    "        zero_division=0\n",
    "    )\n",
    "    print(report)\n",
    "    return all_epoch_losses, report"
   ]
  },
  {
   "cell_type": "code",
   "execution_count": null,
   "metadata": {
    "execution": {
     "iopub.execute_input": "2024-12-28T18:48:09.988906Z",
     "iopub.status.busy": "2024-12-28T18:48:09.988570Z",
     "iopub.status.idle": "2024-12-28T18:48:10.030360Z",
     "shell.execute_reply": "2024-12-28T18:48:10.029517Z",
     "shell.execute_reply.started": "2024-12-28T18:48:09.988878Z"
    },
    "trusted": true
   },
   "outputs": [],
   "source": [
    "# Flatten tokens and labels\n",
    "all_tokens = [token for tokens, _ in dataset for token in tokens]\n",
    "all_labels = [label for _, labels in dataset for label in labels]\n",
    "\n",
    "# Build vocabularies\n",
    "vocab = build_vocab(all_tokens)\n",
    "label_vocab = build_vocab(all_labels)\n"
   ]
  },
  {
   "cell_type": "code",
   "execution_count": null,
   "metadata": {
    "execution": {
     "iopub.execute_input": "2024-12-28T18:48:10.031415Z",
     "iopub.status.busy": "2024-12-28T18:48:10.031151Z",
     "iopub.status.idle": "2024-12-28T18:48:10.104874Z",
     "shell.execute_reply": "2024-12-28T18:48:10.103487Z",
     "shell.execute_reply.started": "2024-12-28T18:48:10.031395Z"
    },
    "trusted": true
   },
   "outputs": [],
   "source": [
    "# Model hyperparameters\n",
    "window_size = 50\n",
    "embed_dim = 100\n",
    "hidden_dim = 128\n",
    "num_classes = len(label_vocab)\n",
    "batch_size = 32\n",
    "learning_rate = 0.001\n",
    "epochs = 200\n",
    "device = 'cuda' if torch.cuda.is_available() else 'cpu'\n"
   ]
  },
  {
   "cell_type": "markdown",
   "metadata": {},
   "source": [
    "### Model Training Execution"
   ]
  },
  {
   "cell_type": "code",
   "execution_count": null,
   "metadata": {
    "execution": {
     "iopub.execute_input": "2024-12-28T18:48:10.106142Z",
     "iopub.status.busy": "2024-12-28T18:48:10.105828Z",
     "iopub.status.idle": "2024-12-28T18:48:10.121235Z",
     "shell.execute_reply": "2024-12-28T18:48:10.120336Z",
     "shell.execute_reply.started": "2024-12-28T18:48:10.106118Z"
    },
    "trusted": true
   },
   "outputs": [],
   "source": [
    "# Prepare Dataset and DataLoader\n",
    "train_dataset = NERDataset(dataset, vocab, label_vocab, window_size)\n",
    "train_loader = DataLoader(\n",
    "    train_dataset,\n",
    "    batch_size=batch_size,\n",
    "    shuffle=True,\n",
    "    collate_fn=collate_fn_manual\n",
    ")"
   ]
  },
  {
   "cell_type": "code",
   "execution_count": null,
   "metadata": {
    "execution": {
     "iopub.execute_input": "2024-12-28T18:48:10.122407Z",
     "iopub.status.busy": "2024-12-28T18:48:10.122094Z",
     "iopub.status.idle": "2024-12-28T18:48:10.134963Z",
     "shell.execute_reply": "2024-12-28T18:48:10.134024Z",
     "shell.execute_reply.started": "2024-12-28T18:48:10.122386Z"
    },
    "trusted": true
   },
   "outputs": [],
   "source": [
    "import matplotlib.pyplot as plt\n",
    "# Visualization \n",
    "def plot_learning_curve(train_losses):\n",
    "    \"\"\"\n",
    "    Plot training loss curve\n",
    "    \"\"\"\n",
    "    plt.figure(figsize=(10, 6))\n",
    "    plt.plot(range(1, len(train_losses) + 1), train_losses, marker='o', label=\"Train Loss\")\n",
    "    plt.xlabel(\"Epochs\")\n",
    "    plt.ylabel(\"Loss\")\n",
    "    plt.title(\"Learning Curve\")\n",
    "    plt.grid()\n",
    "    plt.legend()\n",
    "    plt.show()\n",
    "\n",
    "\n"
   ]
  },
  {
   "cell_type": "code",
   "execution_count": null,
   "metadata": {
    "execution": {
     "iopub.execute_input": "2024-12-28T18:48:10.136167Z",
     "iopub.status.busy": "2024-12-28T18:48:10.135851Z",
     "iopub.status.idle": "2024-12-28T18:50:22.352841Z",
     "shell.execute_reply": "2024-12-28T18:50:22.352002Z",
     "shell.execute_reply.started": "2024-12-28T18:48:10.136137Z"
    },
    "trusted": true
   },
   "outputs": [
    {
     "name": "stderr",
     "output_type": "stream",
     "text": [
      "Training Epoch 1/200: 100%|██████████| 7/7 [00:01<00:00,  6.86it/s]\n"
     ]
    },
    {
     "name": "stdout",
     "output_type": "stream",
     "text": [
      "Epoch 1, Loss: 4.2705\n"
     ]
    },
    {
     "name": "stderr",
     "output_type": "stream",
     "text": [
      "Training Epoch 2/200: 100%|██████████| 7/7 [00:00<00:00, 20.72it/s]\n"
     ]
    },
    {
     "name": "stdout",
     "output_type": "stream",
     "text": [
      "Epoch 2, Loss: 3.6795\n"
     ]
    },
    {
     "name": "stderr",
     "output_type": "stream",
     "text": [
      "Training Epoch 3/200: 100%|██████████| 7/7 [00:00<00:00, 23.47it/s]\n"
     ]
    },
    {
     "name": "stdout",
     "output_type": "stream",
     "text": [
      "Epoch 3, Loss: 2.3892\n"
     ]
    },
    {
     "name": "stderr",
     "output_type": "stream",
     "text": [
      "Training Epoch 4/200: 100%|██████████| 7/7 [00:00<00:00, 23.54it/s]\n"
     ]
    },
    {
     "name": "stdout",
     "output_type": "stream",
     "text": [
      "Epoch 4, Loss: 2.1991\n"
     ]
    },
    {
     "name": "stderr",
     "output_type": "stream",
     "text": [
      "Training Epoch 5/200: 100%|██████████| 7/7 [00:00<00:00, 24.15it/s]\n"
     ]
    },
    {
     "name": "stdout",
     "output_type": "stream",
     "text": [
      "Epoch 5, Loss: 2.1266\n"
     ]
    },
    {
     "name": "stderr",
     "output_type": "stream",
     "text": [
      "Training Epoch 6/200: 100%|██████████| 7/7 [00:00<00:00, 23.47it/s]\n"
     ]
    },
    {
     "name": "stdout",
     "output_type": "stream",
     "text": [
      "Epoch 6, Loss: 2.0851\n"
     ]
    },
    {
     "name": "stderr",
     "output_type": "stream",
     "text": [
      "Training Epoch 7/200: 100%|██████████| 7/7 [00:00<00:00, 24.49it/s]\n"
     ]
    },
    {
     "name": "stdout",
     "output_type": "stream",
     "text": [
      "Epoch 7, Loss: 2.0695\n"
     ]
    },
    {
     "name": "stderr",
     "output_type": "stream",
     "text": [
      "Training Epoch 8/200: 100%|██████████| 7/7 [00:00<00:00, 23.52it/s]\n"
     ]
    },
    {
     "name": "stdout",
     "output_type": "stream",
     "text": [
      "Epoch 8, Loss: 2.0350\n"
     ]
    },
    {
     "name": "stderr",
     "output_type": "stream",
     "text": [
      "Training Epoch 9/200: 100%|██████████| 7/7 [00:00<00:00, 24.56it/s]\n"
     ]
    },
    {
     "name": "stdout",
     "output_type": "stream",
     "text": [
      "Epoch 9, Loss: 2.0051\n"
     ]
    },
    {
     "name": "stderr",
     "output_type": "stream",
     "text": [
      "Training Epoch 10/200: 100%|██████████| 7/7 [00:00<00:00, 23.45it/s]\n"
     ]
    },
    {
     "name": "stdout",
     "output_type": "stream",
     "text": [
      "Epoch 10, Loss: 1.9911\n"
     ]
    },
    {
     "name": "stderr",
     "output_type": "stream",
     "text": [
      "Training Epoch 11/200: 100%|██████████| 7/7 [00:00<00:00, 24.82it/s]\n"
     ]
    },
    {
     "name": "stdout",
     "output_type": "stream",
     "text": [
      "Epoch 11, Loss: 1.9617\n"
     ]
    },
    {
     "name": "stderr",
     "output_type": "stream",
     "text": [
      "Training Epoch 12/200: 100%|██████████| 7/7 [00:00<00:00, 23.81it/s]\n"
     ]
    },
    {
     "name": "stdout",
     "output_type": "stream",
     "text": [
      "Epoch 12, Loss: 1.9310\n"
     ]
    },
    {
     "name": "stderr",
     "output_type": "stream",
     "text": [
      "Training Epoch 13/200: 100%|██████████| 7/7 [00:00<00:00, 24.72it/s]\n"
     ]
    },
    {
     "name": "stdout",
     "output_type": "stream",
     "text": [
      "Epoch 13, Loss: 1.9083\n"
     ]
    },
    {
     "name": "stderr",
     "output_type": "stream",
     "text": [
      "Training Epoch 14/200: 100%|██████████| 7/7 [00:00<00:00, 23.98it/s]\n"
     ]
    },
    {
     "name": "stdout",
     "output_type": "stream",
     "text": [
      "Epoch 14, Loss: 1.8642\n"
     ]
    },
    {
     "name": "stderr",
     "output_type": "stream",
     "text": [
      "Training Epoch 15/200: 100%|██████████| 7/7 [00:00<00:00, 24.51it/s]\n"
     ]
    },
    {
     "name": "stdout",
     "output_type": "stream",
     "text": [
      "Epoch 15, Loss: 1.8281\n"
     ]
    },
    {
     "name": "stderr",
     "output_type": "stream",
     "text": [
      "Training Epoch 16/200: 100%|██████████| 7/7 [00:00<00:00, 23.87it/s]\n"
     ]
    },
    {
     "name": "stdout",
     "output_type": "stream",
     "text": [
      "Epoch 16, Loss: 1.7883\n"
     ]
    },
    {
     "name": "stderr",
     "output_type": "stream",
     "text": [
      "Training Epoch 17/200: 100%|██████████| 7/7 [00:00<00:00, 23.86it/s]\n"
     ]
    },
    {
     "name": "stdout",
     "output_type": "stream",
     "text": [
      "Epoch 17, Loss: 1.7528\n"
     ]
    },
    {
     "name": "stderr",
     "output_type": "stream",
     "text": [
      "Training Epoch 18/200: 100%|██████████| 7/7 [00:00<00:00, 22.87it/s]\n"
     ]
    },
    {
     "name": "stdout",
     "output_type": "stream",
     "text": [
      "Epoch 18, Loss: 1.7037\n"
     ]
    },
    {
     "name": "stderr",
     "output_type": "stream",
     "text": [
      "Training Epoch 19/200: 100%|██████████| 7/7 [00:00<00:00, 24.47it/s]\n"
     ]
    },
    {
     "name": "stdout",
     "output_type": "stream",
     "text": [
      "Epoch 19, Loss: 1.6516\n"
     ]
    },
    {
     "name": "stderr",
     "output_type": "stream",
     "text": [
      "Training Epoch 20/200: 100%|██████████| 7/7 [00:00<00:00, 24.02it/s]\n"
     ]
    },
    {
     "name": "stdout",
     "output_type": "stream",
     "text": [
      "Epoch 20, Loss: 1.6472\n"
     ]
    },
    {
     "name": "stderr",
     "output_type": "stream",
     "text": [
      "Training Epoch 21/200: 100%|██████████| 7/7 [00:00<00:00, 22.35it/s]\n"
     ]
    },
    {
     "name": "stdout",
     "output_type": "stream",
     "text": [
      "Epoch 21, Loss: 1.5963\n"
     ]
    },
    {
     "name": "stderr",
     "output_type": "stream",
     "text": [
      "Training Epoch 22/200: 100%|██████████| 7/7 [00:00<00:00, 24.33it/s]\n"
     ]
    },
    {
     "name": "stdout",
     "output_type": "stream",
     "text": [
      "Epoch 22, Loss: 1.5489\n"
     ]
    },
    {
     "name": "stderr",
     "output_type": "stream",
     "text": [
      "Training Epoch 23/200: 100%|██████████| 7/7 [00:00<00:00, 23.36it/s]\n"
     ]
    },
    {
     "name": "stdout",
     "output_type": "stream",
     "text": [
      "Epoch 23, Loss: 1.5210\n"
     ]
    },
    {
     "name": "stderr",
     "output_type": "stream",
     "text": [
      "Training Epoch 24/200: 100%|██████████| 7/7 [00:00<00:00, 24.30it/s]\n"
     ]
    },
    {
     "name": "stdout",
     "output_type": "stream",
     "text": [
      "Epoch 24, Loss: 1.4822\n"
     ]
    },
    {
     "name": "stderr",
     "output_type": "stream",
     "text": [
      "Training Epoch 25/200: 100%|██████████| 7/7 [00:00<00:00, 23.98it/s]\n"
     ]
    },
    {
     "name": "stdout",
     "output_type": "stream",
     "text": [
      "Epoch 25, Loss: 1.4563\n"
     ]
    },
    {
     "name": "stderr",
     "output_type": "stream",
     "text": [
      "Training Epoch 26/200: 100%|██████████| 7/7 [00:00<00:00, 24.21it/s]\n"
     ]
    },
    {
     "name": "stdout",
     "output_type": "stream",
     "text": [
      "Epoch 26, Loss: 1.4160\n"
     ]
    },
    {
     "name": "stderr",
     "output_type": "stream",
     "text": [
      "Training Epoch 27/200: 100%|██████████| 7/7 [00:00<00:00, 23.93it/s]\n"
     ]
    },
    {
     "name": "stdout",
     "output_type": "stream",
     "text": [
      "Epoch 27, Loss: 1.3858\n"
     ]
    },
    {
     "name": "stderr",
     "output_type": "stream",
     "text": [
      "Training Epoch 28/200: 100%|██████████| 7/7 [00:00<00:00, 23.53it/s]\n"
     ]
    },
    {
     "name": "stdout",
     "output_type": "stream",
     "text": [
      "Epoch 28, Loss: 1.3536\n"
     ]
    },
    {
     "name": "stderr",
     "output_type": "stream",
     "text": [
      "Training Epoch 29/200: 100%|██████████| 7/7 [00:00<00:00, 24.91it/s]\n"
     ]
    },
    {
     "name": "stdout",
     "output_type": "stream",
     "text": [
      "Epoch 29, Loss: 1.3203\n"
     ]
    },
    {
     "name": "stderr",
     "output_type": "stream",
     "text": [
      "Training Epoch 30/200: 100%|██████████| 7/7 [00:00<00:00, 23.33it/s]\n"
     ]
    },
    {
     "name": "stdout",
     "output_type": "stream",
     "text": [
      "Epoch 30, Loss: 1.2986\n"
     ]
    },
    {
     "name": "stderr",
     "output_type": "stream",
     "text": [
      "Training Epoch 31/200: 100%|██████████| 7/7 [00:00<00:00, 23.80it/s]\n"
     ]
    },
    {
     "name": "stdout",
     "output_type": "stream",
     "text": [
      "Epoch 31, Loss: 1.2502\n"
     ]
    },
    {
     "name": "stderr",
     "output_type": "stream",
     "text": [
      "Training Epoch 32/200: 100%|██████████| 7/7 [00:00<00:00, 24.19it/s]\n"
     ]
    },
    {
     "name": "stdout",
     "output_type": "stream",
     "text": [
      "Epoch 32, Loss: 1.2313\n"
     ]
    },
    {
     "name": "stderr",
     "output_type": "stream",
     "text": [
      "Training Epoch 33/200: 100%|██████████| 7/7 [00:00<00:00, 24.07it/s]\n"
     ]
    },
    {
     "name": "stdout",
     "output_type": "stream",
     "text": [
      "Epoch 33, Loss: 1.2111\n"
     ]
    },
    {
     "name": "stderr",
     "output_type": "stream",
     "text": [
      "Training Epoch 34/200: 100%|██████████| 7/7 [00:00<00:00, 24.93it/s]\n"
     ]
    },
    {
     "name": "stdout",
     "output_type": "stream",
     "text": [
      "Epoch 34, Loss: 1.2004\n"
     ]
    },
    {
     "name": "stderr",
     "output_type": "stream",
     "text": [
      "Training Epoch 35/200: 100%|██████████| 7/7 [00:00<00:00, 24.16it/s]\n"
     ]
    },
    {
     "name": "stdout",
     "output_type": "stream",
     "text": [
      "Epoch 35, Loss: 1.1668\n"
     ]
    },
    {
     "name": "stderr",
     "output_type": "stream",
     "text": [
      "Training Epoch 36/200: 100%|██████████| 7/7 [00:00<00:00, 23.89it/s]\n"
     ]
    },
    {
     "name": "stdout",
     "output_type": "stream",
     "text": [
      "Epoch 36, Loss: 1.1522\n"
     ]
    },
    {
     "name": "stderr",
     "output_type": "stream",
     "text": [
      "Training Epoch 37/200: 100%|██████████| 7/7 [00:00<00:00, 24.57it/s]\n"
     ]
    },
    {
     "name": "stdout",
     "output_type": "stream",
     "text": [
      "Epoch 37, Loss: 1.1366\n"
     ]
    },
    {
     "name": "stderr",
     "output_type": "stream",
     "text": [
      "Training Epoch 38/200: 100%|██████████| 7/7 [00:00<00:00, 24.36it/s]\n"
     ]
    },
    {
     "name": "stdout",
     "output_type": "stream",
     "text": [
      "Epoch 38, Loss: 1.0998\n"
     ]
    },
    {
     "name": "stderr",
     "output_type": "stream",
     "text": [
      "Training Epoch 39/200: 100%|██████████| 7/7 [00:00<00:00, 22.86it/s]\n"
     ]
    },
    {
     "name": "stdout",
     "output_type": "stream",
     "text": [
      "Epoch 39, Loss: 1.0639\n"
     ]
    },
    {
     "name": "stderr",
     "output_type": "stream",
     "text": [
      "Training Epoch 40/200: 100%|██████████| 7/7 [00:00<00:00, 24.57it/s]\n"
     ]
    },
    {
     "name": "stdout",
     "output_type": "stream",
     "text": [
      "Epoch 40, Loss: 1.0475\n"
     ]
    },
    {
     "name": "stderr",
     "output_type": "stream",
     "text": [
      "Training Epoch 41/200: 100%|██████████| 7/7 [00:00<00:00, 24.62it/s]\n"
     ]
    },
    {
     "name": "stdout",
     "output_type": "stream",
     "text": [
      "Epoch 41, Loss: 1.0375\n"
     ]
    },
    {
     "name": "stderr",
     "output_type": "stream",
     "text": [
      "Training Epoch 42/200: 100%|██████████| 7/7 [00:00<00:00, 24.06it/s]\n"
     ]
    },
    {
     "name": "stdout",
     "output_type": "stream",
     "text": [
      "Epoch 42, Loss: 1.0078\n"
     ]
    },
    {
     "name": "stderr",
     "output_type": "stream",
     "text": [
      "Training Epoch 43/200: 100%|██████████| 7/7 [00:00<00:00, 24.25it/s]\n"
     ]
    },
    {
     "name": "stdout",
     "output_type": "stream",
     "text": [
      "Epoch 43, Loss: 0.9813\n"
     ]
    },
    {
     "name": "stderr",
     "output_type": "stream",
     "text": [
      "Training Epoch 44/200: 100%|██████████| 7/7 [00:00<00:00, 24.57it/s]\n"
     ]
    },
    {
     "name": "stdout",
     "output_type": "stream",
     "text": [
      "Epoch 44, Loss: 0.9726\n"
     ]
    },
    {
     "name": "stderr",
     "output_type": "stream",
     "text": [
      "Training Epoch 45/200: 100%|██████████| 7/7 [00:00<00:00, 23.79it/s]\n"
     ]
    },
    {
     "name": "stdout",
     "output_type": "stream",
     "text": [
      "Epoch 45, Loss: 0.9385\n"
     ]
    },
    {
     "name": "stderr",
     "output_type": "stream",
     "text": [
      "Training Epoch 46/200: 100%|██████████| 7/7 [00:00<00:00, 23.67it/s]\n"
     ]
    },
    {
     "name": "stdout",
     "output_type": "stream",
     "text": [
      "Epoch 46, Loss: 0.9229\n"
     ]
    },
    {
     "name": "stderr",
     "output_type": "stream",
     "text": [
      "Training Epoch 47/200: 100%|██████████| 7/7 [00:00<00:00, 24.29it/s]\n"
     ]
    },
    {
     "name": "stdout",
     "output_type": "stream",
     "text": [
      "Epoch 47, Loss: 0.9025\n"
     ]
    },
    {
     "name": "stderr",
     "output_type": "stream",
     "text": [
      "Training Epoch 48/200: 100%|██████████| 7/7 [00:00<00:00, 23.61it/s]\n"
     ]
    },
    {
     "name": "stdout",
     "output_type": "stream",
     "text": [
      "Epoch 48, Loss: 0.8876\n"
     ]
    },
    {
     "name": "stderr",
     "output_type": "stream",
     "text": [
      "Training Epoch 49/200: 100%|██████████| 7/7 [00:00<00:00, 21.02it/s]\n"
     ]
    },
    {
     "name": "stdout",
     "output_type": "stream",
     "text": [
      "Epoch 49, Loss: 0.8710\n"
     ]
    },
    {
     "name": "stderr",
     "output_type": "stream",
     "text": [
      "Training Epoch 50/200: 100%|██████████| 7/7 [00:00<00:00, 22.12it/s]\n"
     ]
    },
    {
     "name": "stdout",
     "output_type": "stream",
     "text": [
      "Epoch 50, Loss: 0.8611\n"
     ]
    },
    {
     "name": "stderr",
     "output_type": "stream",
     "text": [
      "Training Epoch 51/200: 100%|██████████| 7/7 [00:00<00:00, 23.96it/s]\n"
     ]
    },
    {
     "name": "stdout",
     "output_type": "stream",
     "text": [
      "Epoch 51, Loss: 0.8386\n"
     ]
    },
    {
     "name": "stderr",
     "output_type": "stream",
     "text": [
      "Training Epoch 52/200: 100%|██████████| 7/7 [00:00<00:00, 20.50it/s]\n"
     ]
    },
    {
     "name": "stdout",
     "output_type": "stream",
     "text": [
      "Epoch 52, Loss: 0.8275\n"
     ]
    },
    {
     "name": "stderr",
     "output_type": "stream",
     "text": [
      "Training Epoch 53/200: 100%|██████████| 7/7 [00:00<00:00, 23.48it/s]\n"
     ]
    },
    {
     "name": "stdout",
     "output_type": "stream",
     "text": [
      "Epoch 53, Loss: 0.8003\n"
     ]
    },
    {
     "name": "stderr",
     "output_type": "stream",
     "text": [
      "Training Epoch 54/200: 100%|██████████| 7/7 [00:00<00:00, 23.82it/s]\n"
     ]
    },
    {
     "name": "stdout",
     "output_type": "stream",
     "text": [
      "Epoch 54, Loss: 0.7918\n"
     ]
    },
    {
     "name": "stderr",
     "output_type": "stream",
     "text": [
      "Training Epoch 55/200: 100%|██████████| 7/7 [00:00<00:00, 24.33it/s]\n"
     ]
    },
    {
     "name": "stdout",
     "output_type": "stream",
     "text": [
      "Epoch 55, Loss: 0.7805\n"
     ]
    },
    {
     "name": "stderr",
     "output_type": "stream",
     "text": [
      "Training Epoch 56/200: 100%|██████████| 7/7 [00:00<00:00, 24.06it/s]\n"
     ]
    },
    {
     "name": "stdout",
     "output_type": "stream",
     "text": [
      "Epoch 56, Loss: 0.7647\n"
     ]
    },
    {
     "name": "stderr",
     "output_type": "stream",
     "text": [
      "Training Epoch 57/200: 100%|██████████| 7/7 [00:00<00:00, 24.00it/s]\n"
     ]
    },
    {
     "name": "stdout",
     "output_type": "stream",
     "text": [
      "Epoch 57, Loss: 0.7501\n"
     ]
    },
    {
     "name": "stderr",
     "output_type": "stream",
     "text": [
      "Training Epoch 58/200: 100%|██████████| 7/7 [00:00<00:00, 23.47it/s]\n"
     ]
    },
    {
     "name": "stdout",
     "output_type": "stream",
     "text": [
      "Epoch 58, Loss: 0.7320\n"
     ]
    },
    {
     "name": "stderr",
     "output_type": "stream",
     "text": [
      "Training Epoch 59/200: 100%|██████████| 7/7 [00:00<00:00, 24.33it/s]\n"
     ]
    },
    {
     "name": "stdout",
     "output_type": "stream",
     "text": [
      "Epoch 59, Loss: 0.7189\n"
     ]
    },
    {
     "name": "stderr",
     "output_type": "stream",
     "text": [
      "Training Epoch 60/200: 100%|██████████| 7/7 [00:00<00:00, 24.36it/s]\n"
     ]
    },
    {
     "name": "stdout",
     "output_type": "stream",
     "text": [
      "Epoch 60, Loss: 0.7215\n"
     ]
    },
    {
     "name": "stderr",
     "output_type": "stream",
     "text": [
      "Training Epoch 61/200: 100%|██████████| 7/7 [00:00<00:00, 23.85it/s]\n"
     ]
    },
    {
     "name": "stdout",
     "output_type": "stream",
     "text": [
      "Epoch 61, Loss: 0.7095\n"
     ]
    },
    {
     "name": "stderr",
     "output_type": "stream",
     "text": [
      "Training Epoch 62/200: 100%|██████████| 7/7 [00:00<00:00, 24.00it/s]\n"
     ]
    },
    {
     "name": "stdout",
     "output_type": "stream",
     "text": [
      "Epoch 62, Loss: 0.6845\n"
     ]
    },
    {
     "name": "stderr",
     "output_type": "stream",
     "text": [
      "Training Epoch 63/200: 100%|██████████| 7/7 [00:00<00:00, 23.59it/s]\n"
     ]
    },
    {
     "name": "stdout",
     "output_type": "stream",
     "text": [
      "Epoch 63, Loss: 0.6684\n"
     ]
    },
    {
     "name": "stderr",
     "output_type": "stream",
     "text": [
      "Training Epoch 64/200: 100%|██████████| 7/7 [00:00<00:00, 23.92it/s]\n"
     ]
    },
    {
     "name": "stdout",
     "output_type": "stream",
     "text": [
      "Epoch 64, Loss: 0.6542\n"
     ]
    },
    {
     "name": "stderr",
     "output_type": "stream",
     "text": [
      "Training Epoch 65/200: 100%|██████████| 7/7 [00:00<00:00, 23.93it/s]\n"
     ]
    },
    {
     "name": "stdout",
     "output_type": "stream",
     "text": [
      "Epoch 65, Loss: 0.6429\n"
     ]
    },
    {
     "name": "stderr",
     "output_type": "stream",
     "text": [
      "Training Epoch 66/200: 100%|██████████| 7/7 [00:00<00:00, 24.27it/s]\n"
     ]
    },
    {
     "name": "stdout",
     "output_type": "stream",
     "text": [
      "Epoch 66, Loss: 0.6400\n"
     ]
    },
    {
     "name": "stderr",
     "output_type": "stream",
     "text": [
      "Training Epoch 67/200: 100%|██████████| 7/7 [00:00<00:00, 24.40it/s]\n"
     ]
    },
    {
     "name": "stdout",
     "output_type": "stream",
     "text": [
      "Epoch 67, Loss: 0.6063\n"
     ]
    },
    {
     "name": "stderr",
     "output_type": "stream",
     "text": [
      "Training Epoch 68/200: 100%|██████████| 7/7 [00:00<00:00, 24.16it/s]\n"
     ]
    },
    {
     "name": "stdout",
     "output_type": "stream",
     "text": [
      "Epoch 68, Loss: 0.6036\n"
     ]
    },
    {
     "name": "stderr",
     "output_type": "stream",
     "text": [
      "Training Epoch 69/200: 100%|██████████| 7/7 [00:00<00:00, 24.53it/s]\n"
     ]
    },
    {
     "name": "stdout",
     "output_type": "stream",
     "text": [
      "Epoch 69, Loss: 0.5982\n"
     ]
    },
    {
     "name": "stderr",
     "output_type": "stream",
     "text": [
      "Training Epoch 70/200: 100%|██████████| 7/7 [00:00<00:00, 23.85it/s]\n"
     ]
    },
    {
     "name": "stdout",
     "output_type": "stream",
     "text": [
      "Epoch 70, Loss: 0.5791\n"
     ]
    },
    {
     "name": "stderr",
     "output_type": "stream",
     "text": [
      "Training Epoch 71/200: 100%|██████████| 7/7 [00:00<00:00, 24.61it/s]\n"
     ]
    },
    {
     "name": "stdout",
     "output_type": "stream",
     "text": [
      "Epoch 71, Loss: 0.5688\n"
     ]
    },
    {
     "name": "stderr",
     "output_type": "stream",
     "text": [
      "Training Epoch 72/200: 100%|██████████| 7/7 [00:00<00:00, 24.05it/s]\n"
     ]
    },
    {
     "name": "stdout",
     "output_type": "stream",
     "text": [
      "Epoch 72, Loss: 0.5538\n"
     ]
    },
    {
     "name": "stderr",
     "output_type": "stream",
     "text": [
      "Training Epoch 73/200: 100%|██████████| 7/7 [00:00<00:00, 24.24it/s]\n"
     ]
    },
    {
     "name": "stdout",
     "output_type": "stream",
     "text": [
      "Epoch 73, Loss: 0.5467\n"
     ]
    },
    {
     "name": "stderr",
     "output_type": "stream",
     "text": [
      "Training Epoch 74/200: 100%|██████████| 7/7 [00:00<00:00, 23.69it/s]\n"
     ]
    },
    {
     "name": "stdout",
     "output_type": "stream",
     "text": [
      "Epoch 74, Loss: 0.5353\n"
     ]
    },
    {
     "name": "stderr",
     "output_type": "stream",
     "text": [
      "Training Epoch 75/200: 100%|██████████| 7/7 [00:00<00:00, 23.93it/s]\n"
     ]
    },
    {
     "name": "stdout",
     "output_type": "stream",
     "text": [
      "Epoch 75, Loss: 0.5326\n"
     ]
    },
    {
     "name": "stderr",
     "output_type": "stream",
     "text": [
      "Training Epoch 76/200: 100%|██████████| 7/7 [00:00<00:00, 24.42it/s]\n"
     ]
    },
    {
     "name": "stdout",
     "output_type": "stream",
     "text": [
      "Epoch 76, Loss: 0.5208\n"
     ]
    },
    {
     "name": "stderr",
     "output_type": "stream",
     "text": [
      "Training Epoch 77/200: 100%|██████████| 7/7 [00:00<00:00, 24.13it/s]\n"
     ]
    },
    {
     "name": "stdout",
     "output_type": "stream",
     "text": [
      "Epoch 77, Loss: 0.5058\n"
     ]
    },
    {
     "name": "stderr",
     "output_type": "stream",
     "text": [
      "Training Epoch 78/200: 100%|██████████| 7/7 [00:00<00:00, 22.67it/s]\n"
     ]
    },
    {
     "name": "stdout",
     "output_type": "stream",
     "text": [
      "Epoch 78, Loss: 0.4943\n"
     ]
    },
    {
     "name": "stderr",
     "output_type": "stream",
     "text": [
      "Training Epoch 79/200: 100%|██████████| 7/7 [00:00<00:00, 23.76it/s]\n"
     ]
    },
    {
     "name": "stdout",
     "output_type": "stream",
     "text": [
      "Epoch 79, Loss: 0.4929\n"
     ]
    },
    {
     "name": "stderr",
     "output_type": "stream",
     "text": [
      "Training Epoch 80/200: 100%|██████████| 7/7 [00:00<00:00, 24.28it/s]\n"
     ]
    },
    {
     "name": "stdout",
     "output_type": "stream",
     "text": [
      "Epoch 80, Loss: 0.4760\n"
     ]
    },
    {
     "name": "stderr",
     "output_type": "stream",
     "text": [
      "Training Epoch 81/200: 100%|██████████| 7/7 [00:00<00:00, 24.22it/s]\n"
     ]
    },
    {
     "name": "stdout",
     "output_type": "stream",
     "text": [
      "Epoch 81, Loss: 0.4703\n"
     ]
    },
    {
     "name": "stderr",
     "output_type": "stream",
     "text": [
      "Training Epoch 82/200: 100%|██████████| 7/7 [00:00<00:00, 22.68it/s]\n"
     ]
    },
    {
     "name": "stdout",
     "output_type": "stream",
     "text": [
      "Epoch 82, Loss: 0.4612\n"
     ]
    },
    {
     "name": "stderr",
     "output_type": "stream",
     "text": [
      "Training Epoch 83/200: 100%|██████████| 7/7 [00:00<00:00, 23.27it/s]\n"
     ]
    },
    {
     "name": "stdout",
     "output_type": "stream",
     "text": [
      "Epoch 83, Loss: 0.4486\n"
     ]
    },
    {
     "name": "stderr",
     "output_type": "stream",
     "text": [
      "Training Epoch 84/200: 100%|██████████| 7/7 [00:00<00:00, 23.81it/s]\n"
     ]
    },
    {
     "name": "stdout",
     "output_type": "stream",
     "text": [
      "Epoch 84, Loss: 0.4458\n"
     ]
    },
    {
     "name": "stderr",
     "output_type": "stream",
     "text": [
      "Training Epoch 85/200: 100%|██████████| 7/7 [00:00<00:00, 22.36it/s]\n"
     ]
    },
    {
     "name": "stdout",
     "output_type": "stream",
     "text": [
      "Epoch 85, Loss: 0.4306\n"
     ]
    },
    {
     "name": "stderr",
     "output_type": "stream",
     "text": [
      "Training Epoch 86/200: 100%|██████████| 7/7 [00:00<00:00, 23.79it/s]\n"
     ]
    },
    {
     "name": "stdout",
     "output_type": "stream",
     "text": [
      "Epoch 86, Loss: 0.4248\n"
     ]
    },
    {
     "name": "stderr",
     "output_type": "stream",
     "text": [
      "Training Epoch 87/200: 100%|██████████| 7/7 [00:00<00:00, 23.89it/s]\n"
     ]
    },
    {
     "name": "stdout",
     "output_type": "stream",
     "text": [
      "Epoch 87, Loss: 0.4157\n"
     ]
    },
    {
     "name": "stderr",
     "output_type": "stream",
     "text": [
      "Training Epoch 88/200: 100%|██████████| 7/7 [00:00<00:00, 23.45it/s]\n"
     ]
    },
    {
     "name": "stdout",
     "output_type": "stream",
     "text": [
      "Epoch 88, Loss: 0.4079\n"
     ]
    },
    {
     "name": "stderr",
     "output_type": "stream",
     "text": [
      "Training Epoch 89/200: 100%|██████████| 7/7 [00:00<00:00, 24.22it/s]\n"
     ]
    },
    {
     "name": "stdout",
     "output_type": "stream",
     "text": [
      "Epoch 89, Loss: 0.4034\n"
     ]
    },
    {
     "name": "stderr",
     "output_type": "stream",
     "text": [
      "Training Epoch 90/200: 100%|██████████| 7/7 [00:00<00:00, 23.50it/s]\n"
     ]
    },
    {
     "name": "stdout",
     "output_type": "stream",
     "text": [
      "Epoch 90, Loss: 0.3999\n"
     ]
    },
    {
     "name": "stderr",
     "output_type": "stream",
     "text": [
      "Training Epoch 91/200: 100%|██████████| 7/7 [00:00<00:00, 24.00it/s]\n"
     ]
    },
    {
     "name": "stdout",
     "output_type": "stream",
     "text": [
      "Epoch 91, Loss: 0.3956\n"
     ]
    },
    {
     "name": "stderr",
     "output_type": "stream",
     "text": [
      "Training Epoch 92/200: 100%|██████████| 7/7 [00:00<00:00, 23.70it/s]\n"
     ]
    },
    {
     "name": "stdout",
     "output_type": "stream",
     "text": [
      "Epoch 92, Loss: 0.3840\n"
     ]
    },
    {
     "name": "stderr",
     "output_type": "stream",
     "text": [
      "Training Epoch 93/200: 100%|██████████| 7/7 [00:00<00:00, 24.00it/s]\n"
     ]
    },
    {
     "name": "stdout",
     "output_type": "stream",
     "text": [
      "Epoch 93, Loss: 0.3816\n"
     ]
    },
    {
     "name": "stderr",
     "output_type": "stream",
     "text": [
      "Training Epoch 94/200: 100%|██████████| 7/7 [00:00<00:00, 24.23it/s]\n"
     ]
    },
    {
     "name": "stdout",
     "output_type": "stream",
     "text": [
      "Epoch 94, Loss: 0.3621\n"
     ]
    },
    {
     "name": "stderr",
     "output_type": "stream",
     "text": [
      "Training Epoch 95/200: 100%|██████████| 7/7 [00:00<00:00, 23.59it/s]\n"
     ]
    },
    {
     "name": "stdout",
     "output_type": "stream",
     "text": [
      "Epoch 95, Loss: 0.3590\n"
     ]
    },
    {
     "name": "stderr",
     "output_type": "stream",
     "text": [
      "Training Epoch 96/200: 100%|██████████| 7/7 [00:00<00:00, 23.32it/s]\n"
     ]
    },
    {
     "name": "stdout",
     "output_type": "stream",
     "text": [
      "Epoch 96, Loss: 0.3568\n"
     ]
    },
    {
     "name": "stderr",
     "output_type": "stream",
     "text": [
      "Training Epoch 97/200: 100%|██████████| 7/7 [00:00<00:00, 22.95it/s]\n"
     ]
    },
    {
     "name": "stdout",
     "output_type": "stream",
     "text": [
      "Epoch 97, Loss: 0.3427\n"
     ]
    },
    {
     "name": "stderr",
     "output_type": "stream",
     "text": [
      "Training Epoch 98/200: 100%|██████████| 7/7 [00:00<00:00, 23.22it/s]\n"
     ]
    },
    {
     "name": "stdout",
     "output_type": "stream",
     "text": [
      "Epoch 98, Loss: 0.3476\n"
     ]
    },
    {
     "name": "stderr",
     "output_type": "stream",
     "text": [
      "Training Epoch 99/200: 100%|██████████| 7/7 [00:00<00:00, 24.49it/s]\n"
     ]
    },
    {
     "name": "stdout",
     "output_type": "stream",
     "text": [
      "Epoch 99, Loss: 0.3309\n"
     ]
    },
    {
     "name": "stderr",
     "output_type": "stream",
     "text": [
      "Training Epoch 100/200: 100%|██████████| 7/7 [00:00<00:00, 23.74it/s]\n"
     ]
    },
    {
     "name": "stdout",
     "output_type": "stream",
     "text": [
      "Epoch 100, Loss: 0.3250\n"
     ]
    },
    {
     "name": "stderr",
     "output_type": "stream",
     "text": [
      "Training Epoch 101/200: 100%|██████████| 7/7 [00:00<00:00, 24.26it/s]\n"
     ]
    },
    {
     "name": "stdout",
     "output_type": "stream",
     "text": [
      "Epoch 101, Loss: 0.3221\n"
     ]
    },
    {
     "name": "stderr",
     "output_type": "stream",
     "text": [
      "Training Epoch 102/200: 100%|██████████| 7/7 [00:00<00:00, 23.42it/s]\n"
     ]
    },
    {
     "name": "stdout",
     "output_type": "stream",
     "text": [
      "Epoch 102, Loss: 0.3130\n"
     ]
    },
    {
     "name": "stderr",
     "output_type": "stream",
     "text": [
      "Training Epoch 103/200: 100%|██████████| 7/7 [00:00<00:00, 23.77it/s]\n"
     ]
    },
    {
     "name": "stdout",
     "output_type": "stream",
     "text": [
      "Epoch 103, Loss: 0.3183\n"
     ]
    },
    {
     "name": "stderr",
     "output_type": "stream",
     "text": [
      "Training Epoch 104/200: 100%|██████████| 7/7 [00:00<00:00, 24.68it/s]\n"
     ]
    },
    {
     "name": "stdout",
     "output_type": "stream",
     "text": [
      "Epoch 104, Loss: 0.3011\n"
     ]
    },
    {
     "name": "stderr",
     "output_type": "stream",
     "text": [
      "Training Epoch 105/200: 100%|██████████| 7/7 [00:00<00:00, 23.99it/s]\n"
     ]
    },
    {
     "name": "stdout",
     "output_type": "stream",
     "text": [
      "Epoch 105, Loss: 0.2921\n"
     ]
    },
    {
     "name": "stderr",
     "output_type": "stream",
     "text": [
      "Training Epoch 106/200: 100%|██████████| 7/7 [00:00<00:00, 23.68it/s]\n"
     ]
    },
    {
     "name": "stdout",
     "output_type": "stream",
     "text": [
      "Epoch 106, Loss: 0.2855\n"
     ]
    },
    {
     "name": "stderr",
     "output_type": "stream",
     "text": [
      "Training Epoch 107/200: 100%|██████████| 7/7 [00:00<00:00, 24.67it/s]\n"
     ]
    },
    {
     "name": "stdout",
     "output_type": "stream",
     "text": [
      "Epoch 107, Loss: 0.2837\n"
     ]
    },
    {
     "name": "stderr",
     "output_type": "stream",
     "text": [
      "Training Epoch 108/200: 100%|██████████| 7/7 [00:00<00:00, 23.12it/s]\n"
     ]
    },
    {
     "name": "stdout",
     "output_type": "stream",
     "text": [
      "Epoch 108, Loss: 0.2779\n"
     ]
    },
    {
     "name": "stderr",
     "output_type": "stream",
     "text": [
      "Training Epoch 109/200: 100%|██████████| 7/7 [00:00<00:00, 24.03it/s]\n"
     ]
    },
    {
     "name": "stdout",
     "output_type": "stream",
     "text": [
      "Epoch 109, Loss: 0.2731\n"
     ]
    },
    {
     "name": "stderr",
     "output_type": "stream",
     "text": [
      "Training Epoch 110/200: 100%|██████████| 7/7 [00:00<00:00, 22.90it/s]\n"
     ]
    },
    {
     "name": "stdout",
     "output_type": "stream",
     "text": [
      "Epoch 110, Loss: 0.2688\n"
     ]
    },
    {
     "name": "stderr",
     "output_type": "stream",
     "text": [
      "Training Epoch 111/200: 100%|██████████| 7/7 [00:00<00:00, 23.99it/s]\n"
     ]
    },
    {
     "name": "stdout",
     "output_type": "stream",
     "text": [
      "Epoch 111, Loss: 0.2637\n"
     ]
    },
    {
     "name": "stderr",
     "output_type": "stream",
     "text": [
      "Training Epoch 112/200: 100%|██████████| 7/7 [00:00<00:00, 23.81it/s]\n"
     ]
    },
    {
     "name": "stdout",
     "output_type": "stream",
     "text": [
      "Epoch 112, Loss: 0.2570\n"
     ]
    },
    {
     "name": "stderr",
     "output_type": "stream",
     "text": [
      "Training Epoch 113/200: 100%|██████████| 7/7 [00:00<00:00, 23.29it/s]\n"
     ]
    },
    {
     "name": "stdout",
     "output_type": "stream",
     "text": [
      "Epoch 113, Loss: 0.2555\n"
     ]
    },
    {
     "name": "stderr",
     "output_type": "stream",
     "text": [
      "Training Epoch 114/200: 100%|██████████| 7/7 [00:00<00:00, 23.68it/s]\n"
     ]
    },
    {
     "name": "stdout",
     "output_type": "stream",
     "text": [
      "Epoch 114, Loss: 0.2553\n"
     ]
    },
    {
     "name": "stderr",
     "output_type": "stream",
     "text": [
      "Training Epoch 115/200: 100%|██████████| 7/7 [00:00<00:00, 23.60it/s]\n"
     ]
    },
    {
     "name": "stdout",
     "output_type": "stream",
     "text": [
      "Epoch 115, Loss: 0.2488\n"
     ]
    },
    {
     "name": "stderr",
     "output_type": "stream",
     "text": [
      "Training Epoch 116/200: 100%|██████████| 7/7 [00:00<00:00, 23.38it/s]\n"
     ]
    },
    {
     "name": "stdout",
     "output_type": "stream",
     "text": [
      "Epoch 116, Loss: 0.2396\n"
     ]
    },
    {
     "name": "stderr",
     "output_type": "stream",
     "text": [
      "Training Epoch 117/200: 100%|██████████| 7/7 [00:00<00:00, 23.12it/s]\n"
     ]
    },
    {
     "name": "stdout",
     "output_type": "stream",
     "text": [
      "Epoch 117, Loss: 0.2309\n"
     ]
    },
    {
     "name": "stderr",
     "output_type": "stream",
     "text": [
      "Training Epoch 118/200: 100%|██████████| 7/7 [00:00<00:00, 22.50it/s]\n"
     ]
    },
    {
     "name": "stdout",
     "output_type": "stream",
     "text": [
      "Epoch 118, Loss: 0.2322\n"
     ]
    },
    {
     "name": "stderr",
     "output_type": "stream",
     "text": [
      "Training Epoch 119/200: 100%|██████████| 7/7 [00:00<00:00, 22.59it/s]\n"
     ]
    },
    {
     "name": "stdout",
     "output_type": "stream",
     "text": [
      "Epoch 119, Loss: 0.2267\n"
     ]
    },
    {
     "name": "stderr",
     "output_type": "stream",
     "text": [
      "Training Epoch 120/200: 100%|██████████| 7/7 [00:00<00:00, 23.77it/s]\n"
     ]
    },
    {
     "name": "stdout",
     "output_type": "stream",
     "text": [
      "Epoch 120, Loss: 0.2211\n"
     ]
    },
    {
     "name": "stderr",
     "output_type": "stream",
     "text": [
      "Training Epoch 121/200: 100%|██████████| 7/7 [00:00<00:00, 23.16it/s]\n"
     ]
    },
    {
     "name": "stdout",
     "output_type": "stream",
     "text": [
      "Epoch 121, Loss: 0.2187\n"
     ]
    },
    {
     "name": "stderr",
     "output_type": "stream",
     "text": [
      "Training Epoch 122/200: 100%|██████████| 7/7 [00:00<00:00, 23.94it/s]\n"
     ]
    },
    {
     "name": "stdout",
     "output_type": "stream",
     "text": [
      "Epoch 122, Loss: 0.2196\n"
     ]
    },
    {
     "name": "stderr",
     "output_type": "stream",
     "text": [
      "Training Epoch 123/200: 100%|██████████| 7/7 [00:00<00:00, 23.70it/s]\n"
     ]
    },
    {
     "name": "stdout",
     "output_type": "stream",
     "text": [
      "Epoch 123, Loss: 0.2121\n"
     ]
    },
    {
     "name": "stderr",
     "output_type": "stream",
     "text": [
      "Training Epoch 124/200: 100%|██████████| 7/7 [00:00<00:00, 23.29it/s]\n"
     ]
    },
    {
     "name": "stdout",
     "output_type": "stream",
     "text": [
      "Epoch 124, Loss: 0.2056\n"
     ]
    },
    {
     "name": "stderr",
     "output_type": "stream",
     "text": [
      "Training Epoch 125/200: 100%|██████████| 7/7 [00:00<00:00, 23.90it/s]\n"
     ]
    },
    {
     "name": "stdout",
     "output_type": "stream",
     "text": [
      "Epoch 125, Loss: 0.2048\n"
     ]
    },
    {
     "name": "stderr",
     "output_type": "stream",
     "text": [
      "Training Epoch 126/200: 100%|██████████| 7/7 [00:00<00:00, 22.92it/s]\n"
     ]
    },
    {
     "name": "stdout",
     "output_type": "stream",
     "text": [
      "Epoch 126, Loss: 0.1991\n"
     ]
    },
    {
     "name": "stderr",
     "output_type": "stream",
     "text": [
      "Training Epoch 127/200: 100%|██████████| 7/7 [00:00<00:00, 24.65it/s]\n"
     ]
    },
    {
     "name": "stdout",
     "output_type": "stream",
     "text": [
      "Epoch 127, Loss: 0.1923\n"
     ]
    },
    {
     "name": "stderr",
     "output_type": "stream",
     "text": [
      "Training Epoch 128/200: 100%|██████████| 7/7 [00:00<00:00, 23.80it/s]\n"
     ]
    },
    {
     "name": "stdout",
     "output_type": "stream",
     "text": [
      "Epoch 128, Loss: 0.1907\n"
     ]
    },
    {
     "name": "stderr",
     "output_type": "stream",
     "text": [
      "Training Epoch 129/200: 100%|██████████| 7/7 [00:00<00:00, 23.30it/s]\n"
     ]
    },
    {
     "name": "stdout",
     "output_type": "stream",
     "text": [
      "Epoch 129, Loss: 0.1900\n"
     ]
    },
    {
     "name": "stderr",
     "output_type": "stream",
     "text": [
      "Training Epoch 130/200: 100%|██████████| 7/7 [00:00<00:00, 23.77it/s]\n"
     ]
    },
    {
     "name": "stdout",
     "output_type": "stream",
     "text": [
      "Epoch 130, Loss: 0.1846\n"
     ]
    },
    {
     "name": "stderr",
     "output_type": "stream",
     "text": [
      "Training Epoch 131/200: 100%|██████████| 7/7 [00:00<00:00, 23.46it/s]\n"
     ]
    },
    {
     "name": "stdout",
     "output_type": "stream",
     "text": [
      "Epoch 131, Loss: 0.1847\n"
     ]
    },
    {
     "name": "stderr",
     "output_type": "stream",
     "text": [
      "Training Epoch 132/200: 100%|██████████| 7/7 [00:00<00:00, 23.63it/s]\n"
     ]
    },
    {
     "name": "stdout",
     "output_type": "stream",
     "text": [
      "Epoch 132, Loss: 0.1782\n"
     ]
    },
    {
     "name": "stderr",
     "output_type": "stream",
     "text": [
      "Training Epoch 133/200: 100%|██████████| 7/7 [00:00<00:00, 23.41it/s]\n"
     ]
    },
    {
     "name": "stdout",
     "output_type": "stream",
     "text": [
      "Epoch 133, Loss: 0.1753\n"
     ]
    },
    {
     "name": "stderr",
     "output_type": "stream",
     "text": [
      "Training Epoch 134/200: 100%|██████████| 7/7 [00:00<00:00, 23.95it/s]\n"
     ]
    },
    {
     "name": "stdout",
     "output_type": "stream",
     "text": [
      "Epoch 134, Loss: 0.1704\n"
     ]
    },
    {
     "name": "stderr",
     "output_type": "stream",
     "text": [
      "Training Epoch 135/200: 100%|██████████| 7/7 [00:00<00:00, 23.58it/s]\n"
     ]
    },
    {
     "name": "stdout",
     "output_type": "stream",
     "text": [
      "Epoch 135, Loss: 0.1698\n"
     ]
    },
    {
     "name": "stderr",
     "output_type": "stream",
     "text": [
      "Training Epoch 136/200: 100%|██████████| 7/7 [00:00<00:00, 23.88it/s]\n"
     ]
    },
    {
     "name": "stdout",
     "output_type": "stream",
     "text": [
      "Epoch 136, Loss: 0.1685\n"
     ]
    },
    {
     "name": "stderr",
     "output_type": "stream",
     "text": [
      "Training Epoch 137/200: 100%|██████████| 7/7 [00:00<00:00, 23.94it/s]\n"
     ]
    },
    {
     "name": "stdout",
     "output_type": "stream",
     "text": [
      "Epoch 137, Loss: 0.1641\n"
     ]
    },
    {
     "name": "stderr",
     "output_type": "stream",
     "text": [
      "Training Epoch 138/200: 100%|██████████| 7/7 [00:00<00:00, 23.89it/s]\n"
     ]
    },
    {
     "name": "stdout",
     "output_type": "stream",
     "text": [
      "Epoch 138, Loss: 0.1582\n"
     ]
    },
    {
     "name": "stderr",
     "output_type": "stream",
     "text": [
      "Training Epoch 139/200: 100%|██████████| 7/7 [00:00<00:00, 24.00it/s]\n"
     ]
    },
    {
     "name": "stdout",
     "output_type": "stream",
     "text": [
      "Epoch 139, Loss: 0.1568\n"
     ]
    },
    {
     "name": "stderr",
     "output_type": "stream",
     "text": [
      "Training Epoch 140/200: 100%|██████████| 7/7 [00:00<00:00, 23.14it/s]\n"
     ]
    },
    {
     "name": "stdout",
     "output_type": "stream",
     "text": [
      "Epoch 140, Loss: 0.1556\n"
     ]
    },
    {
     "name": "stderr",
     "output_type": "stream",
     "text": [
      "Training Epoch 141/200: 100%|██████████| 7/7 [00:00<00:00, 23.06it/s]\n"
     ]
    },
    {
     "name": "stdout",
     "output_type": "stream",
     "text": [
      "Epoch 141, Loss: 0.1520\n"
     ]
    },
    {
     "name": "stderr",
     "output_type": "stream",
     "text": [
      "Training Epoch 142/200: 100%|██████████| 7/7 [00:00<00:00, 23.71it/s]\n"
     ]
    },
    {
     "name": "stdout",
     "output_type": "stream",
     "text": [
      "Epoch 142, Loss: 0.1479\n"
     ]
    },
    {
     "name": "stderr",
     "output_type": "stream",
     "text": [
      "Training Epoch 143/200: 100%|██████████| 7/7 [00:00<00:00, 23.83it/s]\n"
     ]
    },
    {
     "name": "stdout",
     "output_type": "stream",
     "text": [
      "Epoch 143, Loss: 0.1455\n"
     ]
    },
    {
     "name": "stderr",
     "output_type": "stream",
     "text": [
      "Training Epoch 144/200: 100%|██████████| 7/7 [00:00<00:00, 24.02it/s]\n"
     ]
    },
    {
     "name": "stdout",
     "output_type": "stream",
     "text": [
      "Epoch 144, Loss: 0.1417\n"
     ]
    },
    {
     "name": "stderr",
     "output_type": "stream",
     "text": [
      "Training Epoch 145/200: 100%|██████████| 7/7 [00:00<00:00, 23.98it/s]\n"
     ]
    },
    {
     "name": "stdout",
     "output_type": "stream",
     "text": [
      "Epoch 145, Loss: 0.1404\n"
     ]
    },
    {
     "name": "stderr",
     "output_type": "stream",
     "text": [
      "Training Epoch 146/200: 100%|██████████| 7/7 [00:00<00:00, 23.55it/s]\n"
     ]
    },
    {
     "name": "stdout",
     "output_type": "stream",
     "text": [
      "Epoch 146, Loss: 0.1434\n"
     ]
    },
    {
     "name": "stderr",
     "output_type": "stream",
     "text": [
      "Training Epoch 147/200: 100%|██████████| 7/7 [00:00<00:00, 23.51it/s]\n"
     ]
    },
    {
     "name": "stdout",
     "output_type": "stream",
     "text": [
      "Epoch 147, Loss: 0.1342\n"
     ]
    },
    {
     "name": "stderr",
     "output_type": "stream",
     "text": [
      "Training Epoch 148/200: 100%|██████████| 7/7 [00:00<00:00, 23.42it/s]\n"
     ]
    },
    {
     "name": "stdout",
     "output_type": "stream",
     "text": [
      "Epoch 148, Loss: 0.1324\n"
     ]
    },
    {
     "name": "stderr",
     "output_type": "stream",
     "text": [
      "Training Epoch 149/200: 100%|██████████| 7/7 [00:00<00:00, 23.02it/s]\n"
     ]
    },
    {
     "name": "stdout",
     "output_type": "stream",
     "text": [
      "Epoch 149, Loss: 0.1310\n"
     ]
    },
    {
     "name": "stderr",
     "output_type": "stream",
     "text": [
      "Training Epoch 150/200: 100%|██████████| 7/7 [00:00<00:00, 23.90it/s]\n"
     ]
    },
    {
     "name": "stdout",
     "output_type": "stream",
     "text": [
      "Epoch 150, Loss: 0.1267\n"
     ]
    },
    {
     "name": "stderr",
     "output_type": "stream",
     "text": [
      "Training Epoch 151/200: 100%|██████████| 7/7 [00:00<00:00, 24.06it/s]\n"
     ]
    },
    {
     "name": "stdout",
     "output_type": "stream",
     "text": [
      "Epoch 151, Loss: 0.1276\n"
     ]
    },
    {
     "name": "stderr",
     "output_type": "stream",
     "text": [
      "Training Epoch 152/200: 100%|██████████| 7/7 [00:00<00:00, 22.08it/s]\n"
     ]
    },
    {
     "name": "stdout",
     "output_type": "stream",
     "text": [
      "Epoch 152, Loss: 0.1241\n"
     ]
    },
    {
     "name": "stderr",
     "output_type": "stream",
     "text": [
      "Training Epoch 153/200: 100%|██████████| 7/7 [00:00<00:00, 24.69it/s]\n"
     ]
    },
    {
     "name": "stdout",
     "output_type": "stream",
     "text": [
      "Epoch 153, Loss: 0.1257\n"
     ]
    },
    {
     "name": "stderr",
     "output_type": "stream",
     "text": [
      "Training Epoch 154/200: 100%|██████████| 7/7 [00:00<00:00, 23.34it/s]\n"
     ]
    },
    {
     "name": "stdout",
     "output_type": "stream",
     "text": [
      "Epoch 154, Loss: 0.1209\n"
     ]
    },
    {
     "name": "stderr",
     "output_type": "stream",
     "text": [
      "Training Epoch 155/200: 100%|██████████| 7/7 [00:00<00:00, 22.20it/s]\n"
     ]
    },
    {
     "name": "stdout",
     "output_type": "stream",
     "text": [
      "Epoch 155, Loss: 0.1226\n"
     ]
    },
    {
     "name": "stderr",
     "output_type": "stream",
     "text": [
      "Training Epoch 156/200: 100%|██████████| 7/7 [00:00<00:00, 20.53it/s]\n"
     ]
    },
    {
     "name": "stdout",
     "output_type": "stream",
     "text": [
      "Epoch 156, Loss: 0.1160\n"
     ]
    },
    {
     "name": "stderr",
     "output_type": "stream",
     "text": [
      "Training Epoch 157/200: 100%|██████████| 7/7 [00:00<00:00, 23.06it/s]\n"
     ]
    },
    {
     "name": "stdout",
     "output_type": "stream",
     "text": [
      "Epoch 157, Loss: 0.1151\n"
     ]
    },
    {
     "name": "stderr",
     "output_type": "stream",
     "text": [
      "Training Epoch 158/200: 100%|██████████| 7/7 [00:00<00:00, 23.50it/s]\n"
     ]
    },
    {
     "name": "stdout",
     "output_type": "stream",
     "text": [
      "Epoch 158, Loss: 0.1128\n"
     ]
    },
    {
     "name": "stderr",
     "output_type": "stream",
     "text": [
      "Training Epoch 159/200: 100%|██████████| 7/7 [00:00<00:00, 23.27it/s]\n"
     ]
    },
    {
     "name": "stdout",
     "output_type": "stream",
     "text": [
      "Epoch 159, Loss: 0.1116\n"
     ]
    },
    {
     "name": "stderr",
     "output_type": "stream",
     "text": [
      "Training Epoch 160/200: 100%|██████████| 7/7 [00:00<00:00, 23.94it/s]\n"
     ]
    },
    {
     "name": "stdout",
     "output_type": "stream",
     "text": [
      "Epoch 160, Loss: 0.1081\n"
     ]
    },
    {
     "name": "stderr",
     "output_type": "stream",
     "text": [
      "Training Epoch 161/200: 100%|██████████| 7/7 [00:00<00:00, 23.77it/s]\n"
     ]
    },
    {
     "name": "stdout",
     "output_type": "stream",
     "text": [
      "Epoch 161, Loss: 0.1078\n"
     ]
    },
    {
     "name": "stderr",
     "output_type": "stream",
     "text": [
      "Training Epoch 162/200: 100%|██████████| 7/7 [00:00<00:00, 23.90it/s]\n"
     ]
    },
    {
     "name": "stdout",
     "output_type": "stream",
     "text": [
      "Epoch 162, Loss: 0.1039\n"
     ]
    },
    {
     "name": "stderr",
     "output_type": "stream",
     "text": [
      "Training Epoch 163/200: 100%|██████████| 7/7 [00:00<00:00, 23.49it/s]\n"
     ]
    },
    {
     "name": "stdout",
     "output_type": "stream",
     "text": [
      "Epoch 163, Loss: 0.1032\n"
     ]
    },
    {
     "name": "stderr",
     "output_type": "stream",
     "text": [
      "Training Epoch 164/200: 100%|██████████| 7/7 [00:00<00:00, 23.89it/s]\n"
     ]
    },
    {
     "name": "stdout",
     "output_type": "stream",
     "text": [
      "Epoch 164, Loss: 0.1043\n"
     ]
    },
    {
     "name": "stderr",
     "output_type": "stream",
     "text": [
      "Training Epoch 165/200: 100%|██████████| 7/7 [00:00<00:00, 24.69it/s]\n"
     ]
    },
    {
     "name": "stdout",
     "output_type": "stream",
     "text": [
      "Epoch 165, Loss: 0.1028\n"
     ]
    },
    {
     "name": "stderr",
     "output_type": "stream",
     "text": [
      "Training Epoch 166/200: 100%|██████████| 7/7 [00:00<00:00, 23.44it/s]\n"
     ]
    },
    {
     "name": "stdout",
     "output_type": "stream",
     "text": [
      "Epoch 166, Loss: 0.1000\n"
     ]
    },
    {
     "name": "stderr",
     "output_type": "stream",
     "text": [
      "Training Epoch 167/200: 100%|██████████| 7/7 [00:00<00:00, 23.79it/s]\n"
     ]
    },
    {
     "name": "stdout",
     "output_type": "stream",
     "text": [
      "Epoch 167, Loss: 0.0965\n"
     ]
    },
    {
     "name": "stderr",
     "output_type": "stream",
     "text": [
      "Training Epoch 168/200: 100%|██████████| 7/7 [00:00<00:00, 23.65it/s]\n"
     ]
    },
    {
     "name": "stdout",
     "output_type": "stream",
     "text": [
      "Epoch 168, Loss: 0.0981\n"
     ]
    },
    {
     "name": "stderr",
     "output_type": "stream",
     "text": [
      "Training Epoch 169/200: 100%|██████████| 7/7 [00:00<00:00, 23.97it/s]\n"
     ]
    },
    {
     "name": "stdout",
     "output_type": "stream",
     "text": [
      "Epoch 169, Loss: 0.0936\n"
     ]
    },
    {
     "name": "stderr",
     "output_type": "stream",
     "text": [
      "Training Epoch 170/200: 100%|██████████| 7/7 [00:00<00:00, 23.62it/s]\n"
     ]
    },
    {
     "name": "stdout",
     "output_type": "stream",
     "text": [
      "Epoch 170, Loss: 0.0900\n"
     ]
    },
    {
     "name": "stderr",
     "output_type": "stream",
     "text": [
      "Training Epoch 171/200: 100%|██████████| 7/7 [00:00<00:00, 23.63it/s]\n"
     ]
    },
    {
     "name": "stdout",
     "output_type": "stream",
     "text": [
      "Epoch 171, Loss: 0.0916\n"
     ]
    },
    {
     "name": "stderr",
     "output_type": "stream",
     "text": [
      "Training Epoch 172/200: 100%|██████████| 7/7 [00:00<00:00, 23.31it/s]\n"
     ]
    },
    {
     "name": "stdout",
     "output_type": "stream",
     "text": [
      "Epoch 172, Loss: 0.0918\n"
     ]
    },
    {
     "name": "stderr",
     "output_type": "stream",
     "text": [
      "Training Epoch 173/200: 100%|██████████| 7/7 [00:00<00:00, 23.89it/s]\n"
     ]
    },
    {
     "name": "stdout",
     "output_type": "stream",
     "text": [
      "Epoch 173, Loss: 0.0897\n"
     ]
    },
    {
     "name": "stderr",
     "output_type": "stream",
     "text": [
      "Training Epoch 174/200: 100%|██████████| 7/7 [00:00<00:00, 23.74it/s]\n"
     ]
    },
    {
     "name": "stdout",
     "output_type": "stream",
     "text": [
      "Epoch 174, Loss: 0.0889\n"
     ]
    },
    {
     "name": "stderr",
     "output_type": "stream",
     "text": [
      "Training Epoch 175/200: 100%|██████████| 7/7 [00:00<00:00, 23.80it/s]\n"
     ]
    },
    {
     "name": "stdout",
     "output_type": "stream",
     "text": [
      "Epoch 175, Loss: 0.0859\n"
     ]
    },
    {
     "name": "stderr",
     "output_type": "stream",
     "text": [
      "Training Epoch 176/200: 100%|██████████| 7/7 [00:00<00:00, 23.41it/s]\n"
     ]
    },
    {
     "name": "stdout",
     "output_type": "stream",
     "text": [
      "Epoch 176, Loss: 0.0878\n"
     ]
    },
    {
     "name": "stderr",
     "output_type": "stream",
     "text": [
      "Training Epoch 177/200: 100%|██████████| 7/7 [00:00<00:00, 23.42it/s]\n"
     ]
    },
    {
     "name": "stdout",
     "output_type": "stream",
     "text": [
      "Epoch 177, Loss: 0.0815\n"
     ]
    },
    {
     "name": "stderr",
     "output_type": "stream",
     "text": [
      "Training Epoch 178/200: 100%|██████████| 7/7 [00:00<00:00, 24.36it/s]\n"
     ]
    },
    {
     "name": "stdout",
     "output_type": "stream",
     "text": [
      "Epoch 178, Loss: 0.0798\n"
     ]
    },
    {
     "name": "stderr",
     "output_type": "stream",
     "text": [
      "Training Epoch 179/200: 100%|██████████| 7/7 [00:00<00:00, 23.88it/s]\n"
     ]
    },
    {
     "name": "stdout",
     "output_type": "stream",
     "text": [
      "Epoch 179, Loss: 0.0810\n"
     ]
    },
    {
     "name": "stderr",
     "output_type": "stream",
     "text": [
      "Training Epoch 180/200: 100%|██████████| 7/7 [00:00<00:00, 23.45it/s]\n"
     ]
    },
    {
     "name": "stdout",
     "output_type": "stream",
     "text": [
      "Epoch 180, Loss: 0.0761\n"
     ]
    },
    {
     "name": "stderr",
     "output_type": "stream",
     "text": [
      "Training Epoch 181/200: 100%|██████████| 7/7 [00:00<00:00, 23.56it/s]\n"
     ]
    },
    {
     "name": "stdout",
     "output_type": "stream",
     "text": [
      "Epoch 181, Loss: 0.0763\n"
     ]
    },
    {
     "name": "stderr",
     "output_type": "stream",
     "text": [
      "Training Epoch 182/200: 100%|██████████| 7/7 [00:00<00:00, 23.60it/s]\n"
     ]
    },
    {
     "name": "stdout",
     "output_type": "stream",
     "text": [
      "Epoch 182, Loss: 0.0766\n"
     ]
    },
    {
     "name": "stderr",
     "output_type": "stream",
     "text": [
      "Training Epoch 183/200: 100%|██████████| 7/7 [00:00<00:00, 22.97it/s]\n"
     ]
    },
    {
     "name": "stdout",
     "output_type": "stream",
     "text": [
      "Epoch 183, Loss: 0.0748\n"
     ]
    },
    {
     "name": "stderr",
     "output_type": "stream",
     "text": [
      "Training Epoch 184/200: 100%|██████████| 7/7 [00:00<00:00, 23.70it/s]\n"
     ]
    },
    {
     "name": "stdout",
     "output_type": "stream",
     "text": [
      "Epoch 184, Loss: 0.0720\n"
     ]
    },
    {
     "name": "stderr",
     "output_type": "stream",
     "text": [
      "Training Epoch 185/200: 100%|██████████| 7/7 [00:00<00:00, 23.07it/s]\n"
     ]
    },
    {
     "name": "stdout",
     "output_type": "stream",
     "text": [
      "Epoch 185, Loss: 0.0735\n"
     ]
    },
    {
     "name": "stderr",
     "output_type": "stream",
     "text": [
      "Training Epoch 186/200: 100%|██████████| 7/7 [00:00<00:00, 23.35it/s]\n"
     ]
    },
    {
     "name": "stdout",
     "output_type": "stream",
     "text": [
      "Epoch 186, Loss: 0.0704\n"
     ]
    },
    {
     "name": "stderr",
     "output_type": "stream",
     "text": [
      "Training Epoch 187/200: 100%|██████████| 7/7 [00:00<00:00, 23.26it/s]\n"
     ]
    },
    {
     "name": "stdout",
     "output_type": "stream",
     "text": [
      "Epoch 187, Loss: 0.0728\n"
     ]
    },
    {
     "name": "stderr",
     "output_type": "stream",
     "text": [
      "Training Epoch 188/200: 100%|██████████| 7/7 [00:00<00:00, 23.46it/s]\n"
     ]
    },
    {
     "name": "stdout",
     "output_type": "stream",
     "text": [
      "Epoch 188, Loss: 0.0715\n"
     ]
    },
    {
     "name": "stderr",
     "output_type": "stream",
     "text": [
      "Training Epoch 189/200: 100%|██████████| 7/7 [00:00<00:00, 23.78it/s]\n"
     ]
    },
    {
     "name": "stdout",
     "output_type": "stream",
     "text": [
      "Epoch 189, Loss: 0.0701\n"
     ]
    },
    {
     "name": "stderr",
     "output_type": "stream",
     "text": [
      "Training Epoch 190/200: 100%|██████████| 7/7 [00:00<00:00, 23.91it/s]\n"
     ]
    },
    {
     "name": "stdout",
     "output_type": "stream",
     "text": [
      "Epoch 190, Loss: 0.0676\n"
     ]
    },
    {
     "name": "stderr",
     "output_type": "stream",
     "text": [
      "Training Epoch 191/200: 100%|██████████| 7/7 [00:00<00:00, 23.57it/s]\n"
     ]
    },
    {
     "name": "stdout",
     "output_type": "stream",
     "text": [
      "Epoch 191, Loss: 0.0683\n"
     ]
    },
    {
     "name": "stderr",
     "output_type": "stream",
     "text": [
      "Training Epoch 192/200: 100%|██████████| 7/7 [00:00<00:00, 23.86it/s]\n"
     ]
    },
    {
     "name": "stdout",
     "output_type": "stream",
     "text": [
      "Epoch 192, Loss: 0.0661\n"
     ]
    },
    {
     "name": "stderr",
     "output_type": "stream",
     "text": [
      "Training Epoch 193/200: 100%|██████████| 7/7 [00:00<00:00, 22.83it/s]\n"
     ]
    },
    {
     "name": "stdout",
     "output_type": "stream",
     "text": [
      "Epoch 193, Loss: 0.0632\n"
     ]
    },
    {
     "name": "stderr",
     "output_type": "stream",
     "text": [
      "Training Epoch 194/200: 100%|██████████| 7/7 [00:00<00:00, 23.33it/s]\n"
     ]
    },
    {
     "name": "stdout",
     "output_type": "stream",
     "text": [
      "Epoch 194, Loss: 0.0639\n"
     ]
    },
    {
     "name": "stderr",
     "output_type": "stream",
     "text": [
      "Training Epoch 195/200: 100%|██████████| 7/7 [00:00<00:00, 23.39it/s]\n"
     ]
    },
    {
     "name": "stdout",
     "output_type": "stream",
     "text": [
      "Epoch 195, Loss: 0.0642\n"
     ]
    },
    {
     "name": "stderr",
     "output_type": "stream",
     "text": [
      "Training Epoch 196/200: 100%|██████████| 7/7 [00:00<00:00, 23.37it/s]\n"
     ]
    },
    {
     "name": "stdout",
     "output_type": "stream",
     "text": [
      "Epoch 196, Loss: 0.0626\n"
     ]
    },
    {
     "name": "stderr",
     "output_type": "stream",
     "text": [
      "Training Epoch 197/200: 100%|██████████| 7/7 [00:00<00:00, 23.10it/s]\n"
     ]
    },
    {
     "name": "stdout",
     "output_type": "stream",
     "text": [
      "Epoch 197, Loss: 0.0628\n"
     ]
    },
    {
     "name": "stderr",
     "output_type": "stream",
     "text": [
      "Training Epoch 198/200: 100%|██████████| 7/7 [00:00<00:00, 24.42it/s]\n"
     ]
    },
    {
     "name": "stdout",
     "output_type": "stream",
     "text": [
      "Epoch 198, Loss: 0.0642\n"
     ]
    },
    {
     "name": "stderr",
     "output_type": "stream",
     "text": [
      "Training Epoch 199/200: 100%|██████████| 7/7 [00:00<00:00, 23.48it/s]\n"
     ]
    },
    {
     "name": "stdout",
     "output_type": "stream",
     "text": [
      "Epoch 199, Loss: 0.0589\n"
     ]
    },
    {
     "name": "stderr",
     "output_type": "stream",
     "text": [
      "Training Epoch 200/200: 100%|██████████| 7/7 [00:00<00:00, 23.72it/s]\n"
     ]
    },
    {
     "name": "stdout",
     "output_type": "stream",
     "text": [
      "Epoch 200, Loss: 0.0592\n",
      "\n",
      "Évaluation finale après entraînement :\n",
      "                          precision    recall  f1-score   support\n",
      "\n",
      "                   <pad>       0.00      0.00      0.00         0\n",
      "                   <unk>       0.00      0.00      0.00         0\n",
      "                       O       0.87      0.98      0.92   9556000\n",
      "                   B-Age       0.87      0.84      0.86     40600\n",
      "                   I-Age       0.72      0.57      0.63      8000\n",
      "                   B-Sex       0.96      0.89      0.92     35800\n",
      "               B-History       0.82      0.55      0.66     63800\n",
      "               I-History       0.82      0.74      0.77    219600\n",
      "              B-Severity       0.83      0.62      0.71     72200\n",
      "  B-Detailed_description       0.73      0.62      0.68    528800\n",
      "             B-Lab_value       0.81      0.70      0.75    421200\n",
      "  B-Diagnostic_procedure       0.82      0.78      0.80    754200\n",
      "      B-Disease_disorder       0.78      0.56      0.65    197200\n",
      " B-Therapeutic_procedure       0.77      0.58      0.66    168800\n",
      " I-Therapeutic_procedure       0.83      0.59      0.69     83800\n",
      "  I-Detailed_description       0.83      0.60      0.69    335600\n",
      "             I-Lab_value       0.85      0.66      0.74    264200\n",
      "  I-Diagnostic_procedure       0.86      0.79      0.82    590200\n",
      "  B-Biological_structure       0.79      0.74      0.76    525800\n",
      "  I-Biological_structure       0.85      0.77      0.81    410800\n",
      "           B-Coreference       0.75      0.40      0.52     54200\n",
      "           I-Coreference       0.90      0.43      0.58     19600\n",
      "                B-Dosage       0.82      0.61      0.70     48800\n",
      "                I-Dosage       0.84      0.74      0.78     88400\n",
      "        B-Administration       0.86      0.63      0.73     29200\n",
      "            B-Medication       0.80      0.68      0.73    159000\n",
      "          B-Sign_symptom       0.74      0.69      0.71    513400\n",
      "          I-Sign_symptom       0.82      0.58      0.68    208800\n",
      "      I-Disease_disorder       0.83      0.67      0.74    104400\n",
      "        B-Clinical_event       0.86      0.72      0.78    105600\n",
      "B-Nonbiological_location       0.80      0.70      0.75     61000\n",
      "I-Nonbiological_location       0.90      0.72      0.80     56000\n",
      "                  B-Date       0.77      0.70      0.73    137400\n",
      "                  I-Date       0.82      0.75      0.78    203800\n",
      "   B-Personal_background       0.78      0.61      0.68     11000\n",
      "              B-Duration       0.77      0.59      0.66     54800\n",
      "              I-Duration       0.86      0.54      0.67     56800\n",
      "            B-Occupation       0.62      0.26      0.37      2400\n",
      "            I-Occupation       0.90      0.42      0.57      5000\n",
      "               B-Texture       0.71      0.26      0.38      7800\n",
      "               I-Texture       0.77      0.36      0.49      4000\n",
      "              I-Severity       0.54      0.33      0.41      6200\n",
      "        I-Administration       0.75      0.30      0.43      4000\n",
      "            I-Medication       0.85      0.59      0.69     42400\n",
      "                  B-Area       0.78      0.48      0.59      8000\n",
      "                  I-Area       0.84      0.69      0.76     24200\n",
      "             B-Frequency       0.85      0.44      0.58     13200\n",
      "             I-Frequency       0.84      0.55      0.67     14000\n",
      "          B-Other_entity       0.47      0.20      0.29      3000\n",
      "          I-Other_entity       0.95      0.65      0.77     54600\n",
      "        I-Clinical_event       0.86      0.37      0.51      9000\n",
      "  B-Quantitative_concept       0.65      0.19      0.30      8600\n",
      "        B-Family_history       0.79      0.42      0.55     14400\n",
      "        I-Family_history       0.88      0.60      0.71     62000\n",
      "  I-Quantitative_concept       0.83      0.35      0.49      5200\n",
      "               B-Outcome       0.84      0.46      0.60      7800\n",
      "               I-Outcome       0.96      0.34      0.50      1800\n",
      "              B-Activity       0.73      0.32      0.44     16200\n",
      "                B-Volume       0.76      0.44      0.55      5800\n",
      "                I-Volume       0.92      0.63      0.75     16000\n",
      "                 B-Color       0.82      0.36      0.50      9600\n",
      "   B-Qualitative_concept       0.82      0.11      0.19      7600\n",
      "              B-Distance       0.75      0.57      0.65     22000\n",
      "              I-Distance       0.83      0.67      0.74     29400\n",
      "  B-Biological_attribute       0.31      0.20      0.24      1800\n",
      "                 B-Shape       0.67      0.25      0.37      9800\n",
      "                 I-Shape       0.39      0.24      0.30      2600\n",
      "  I-Biological_attribute       0.81      0.31      0.45       600\n",
      "                  B-Time       0.74      0.34      0.47     10800\n",
      "                  I-Time       0.89      0.53      0.66     18000\n",
      "               B-Subject       0.73      0.36      0.49      8400\n",
      "               I-Subject       0.70      0.27      0.39      4200\n",
      "              I-Activity       0.70      0.37      0.49      9200\n",
      "                 I-Color       0.92      0.35      0.51      2800\n",
      "           B-Other_event       0.40      0.16      0.23      4200\n",
      "           I-Other_event       0.66      0.43      0.52      8600\n",
      "   I-Personal_background       0.25      0.35      0.29      2600\n",
      "                B-Weight       0.53      0.19      0.28       800\n",
      "   I-Qualitative_concept       0.11      0.19      0.14      1600\n",
      "                B-Height       0.16      0.24      0.19       800\n",
      "                I-Height       0.78      0.29      0.43       400\n",
      "                  B-Mass       0.00      0.01      0.00       200\n",
      "                  I-Mass       0.15      0.02      0.04       200\n",
      "                I-Weight       0.01      0.07      0.02       200\n",
      "\n",
      "                accuracy                           0.85  16680800\n",
      "               macro avg       0.71      0.47      0.55  16680800\n",
      "            weighted avg       0.85      0.85      0.84  16680800\n",
      "\n",
      "\n",
      "Final Losses: [4.270469461168561, 3.6794607639312744, 2.389181239264352, 2.199115378516061, 2.126614366258894, 2.0851082461220876, 2.06945606640407, 2.03503155708313, 2.005101646695818, 1.9910670689174108, 1.9616986853735787, 1.9310486657278878, 1.908273799078805, 1.8642030784061976, 1.8281299386705672, 1.788276995931353, 1.7527972630092077, 1.7036902223314558, 1.651590006692069, 1.6472242389406477, 1.596266508102417, 1.5488935538700648, 1.5209814650671822, 1.4821978296552385, 1.456336838858468, 1.4159801517214095, 1.3858207634517126, 1.3536361966814314, 1.320273450442723, 1.2985871519361223, 1.2502295289720808, 1.2312558548791068, 1.2110841614859444, 1.2003965377807617, 1.1668287004743303, 1.1521755116326469, 1.1366196870803833, 1.0997821262904577, 1.0638974394117082, 1.047475814819336, 1.0375490869794572, 1.0078116059303284, 0.9813028659139361, 0.9725987230028424, 0.9384793979781014, 0.9228582211903164, 0.9025028433118548, 0.88763256583895, 0.8709755284445626, 0.8611191255705697, 0.8386189682143075, 0.827461736542838, 0.8003306303705487, 0.7917516657284328, 0.7804609537124634, 0.7647426894732884, 0.7500940476145063, 0.7319741759981427, 0.7189252972602844, 0.7215235659054348, 0.7095481412751334, 0.6845388753073556, 0.6684216175760541, 0.65422180720738, 0.6428654619625637, 0.6399978825024196, 0.6063086475644793, 0.6035774350166321, 0.5982101815087455, 0.5790740506989616, 0.5688084619385856, 0.5537935325077602, 0.5466920903750828, 0.5352527797222137, 0.532577919108527, 0.5207732830728803, 0.5058045174394336, 0.4942843956606729, 0.4929209862436567, 0.47602392520223347, 0.4702686752591814, 0.4612206092902592, 0.44857485805238995, 0.44579615337508066, 0.4306014520781381, 0.42475863439696177, 0.41566785744258333, 0.4078942026410784, 0.40335083433559965, 0.39986447777066914, 0.395570056779044, 0.38395758611815317, 0.38155680894851685, 0.3620579753603254, 0.3590260658945356, 0.35676413774490356, 0.3427419236728123, 0.3476034828594753, 0.33085083961486816, 0.32500133769852774, 0.3221072895186288, 0.31303393840789795, 0.3182949721813202, 0.3011102208069393, 0.2921161012990134, 0.2855334920542581, 0.28371886696134296, 0.2778758108615875, 0.27307669605527607, 0.26878125752721516, 0.26373202885900227, 0.2569790652820042, 0.25550912959235056, 0.2552907445601055, 0.24877393245697021, 0.23957965416567667, 0.23086378191198623, 0.23218601729188645, 0.22670809498855046, 0.2211466623204095, 0.21867822962147848, 0.2196157170193536, 0.21208083842481887, 0.20559222996234894, 0.2048165840762002, 0.19906124898365565, 0.19232566016060965, 0.19072040276868002, 0.19002306248460496, 0.1846087042774473, 0.18474474336419786, 0.1781501876456397, 0.17528921791485377, 0.17036791358675277, 0.16979670311723435, 0.1684890921626772, 0.164098716207913, 0.1581817865371704, 0.1568366906472615, 0.155609735420772, 0.1520083865949086, 0.14793075621128082, 0.14554727290357863, 0.14168611594608851, 0.1403657623699733, 0.14339200726577214, 0.13416691550186702, 0.1324319445661136, 0.131042303783553, 0.1267095942582403, 0.1275629507643836, 0.1241145229765347, 0.12573757022619247, 0.12090645198311124, 0.12260413702045168, 0.1160195501787322, 0.11507996597460338, 0.11275764128991536, 0.11158302958522524, 0.10809738082545144, 0.10778810616050448, 0.10392596466200692, 0.10315136185714177, 0.10434428815330778, 0.10277836344071797, 0.09997972526720592, 0.09646234980651311, 0.09810635979686465, 0.09362357961280006, 0.09000336272375924, 0.09155405312776566, 0.09183675263609205, 0.0897126751286643, 0.08892177151782173, 0.08592705428600311, 0.08783081067459923, 0.08147880434989929, 0.07982970454863139, 0.08096222579479218, 0.07606555627925056, 0.07627333062035697, 0.07658673503569194, 0.07483748772314616, 0.07195893675088882, 0.07351844225611005, 0.07040410488843918, 0.07277575986725944, 0.07150999137333461, 0.07007344918591636, 0.0676389868770327, 0.06828270267163004, 0.06609512812324933, 0.0631684357566493, 0.06389228041682925, 0.06418410209672791, 0.06255631255252021, 0.06282884361488479, 0.06421536899038724, 0.05889730368341718, 0.05915190332702228]\n"
     ]
    }
   ],
   "source": [
    "# Initialize model components\n",
    "model = BiLSTMNER(len(vocab), embed_dim, hidden_dim, num_classes)\n",
    "criterion = nn.CrossEntropyLoss(ignore_index=label_vocab.stoi['<pad>'])\n",
    "optimizer = optim.Adam(model.parameters(), lr=learning_rate)\n",
    "\n",
    "# Start training\n",
    "losses, final_report = train_model(model, train_loader, None, criterion, optimizer, epochs, device)\n",
    "print(\"\\nFinal Losses:\", losses)"
   ]
  },
  {
   "cell_type": "code",
   "execution_count": null,
   "metadata": {
    "execution": {
     "iopub.execute_input": "2024-12-28T18:50:22.354070Z",
     "iopub.status.busy": "2024-12-28T18:50:22.353602Z",
     "iopub.status.idle": "2024-12-28T18:50:22.567464Z",
     "shell.execute_reply": "2024-12-28T18:50:22.566650Z",
     "shell.execute_reply.started": "2024-12-28T18:50:22.354047Z"
    },
    "trusted": true
   },
   "outputs": [
    {
     "data": {
      "image/png": "[encoded data removed]",
      "text/plain": [
       "<Figure size 1000x600 with 1 Axes>"
      ]
     },
     "metadata": {},
     "output_type": "display_data"
    }
   ],
   "source": [
    "# Plot training progress\n",
    "plot_learning_curve(losses)"
   ]
  },
  {
   "cell_type": "code",
   "execution_count": null,
   "metadata": {
    "execution": {
     "iopub.execute_input": "2024-12-28T18:50:22.568538Z",
     "iopub.status.busy": "2024-12-28T18:50:22.568303Z",
     "iopub.status.idle": "2024-12-28T18:50:22.584977Z",
     "shell.execute_reply": "2024-12-28T18:50:22.584163Z",
     "shell.execute_reply.started": "2024-12-28T18:50:22.568518Z"
    },
    "trusted": true
   },
   "outputs": [],
   "source": [
    "# Save trained model\n",
    "model_save_path = \"bilstm_ner_model.pth\"\n",
    "torch.save(model.state_dict(), model_save_path)\n",
    "print(f\"Model saved to {model_save_path}\")\n"
   ]
  },
  {
   "cell_type": "markdown",
   "metadata": {},
   "source": [
    "### Inference Functions"
   ]
  },
  {
   "cell_type": "code",
   "execution_count": null,
   "metadata": {
    "execution": {
     "iopub.execute_input": "2024-12-28T18:50:22.640838Z",
     "iopub.status.busy": "2024-12-28T18:50:22.640551Z",
     "iopub.status.idle": "2024-12-28T18:50:22.646144Z",
     "shell.execute_reply": "2024-12-28T18:50:22.645285Z",
     "shell.execute_reply.started": "2024-12-28T18:50:22.640810Z"
    },
    "trusted": true
   },
   "outputs": [],
   "source": [
    "def predict_from_file(file_path, model, vocab, label_vocab, device):\n",
    "    \"\"\"\n",
    "    Make predictions on a text file using trained model\n",
    "    \n",
    "    Args:\n",
    "        file_path: Path to text file\n",
    "        model: Trained model\n",
    "        vocab: Token vocabulary\n",
    "        label_vocab: Label vocabulary\n",
    "        device: Computation device\n",
    "        \n",
    "    Returns:\n",
    "        List of (token, predicted_label) tuples\n",
    "    \"\"\"\n",
    "    # Read input file\n",
    "    with open(file_path, 'r', encoding='utf-8') as f:\n",
    "        text = f.read()\n",
    "    \n",
    "    # Tokenize text\n",
    "    tokens = text.split()\n",
    "\n",
    "    # Convert tokens to indices\n",
    "    token_ids = [vocab.stoi.get(token, vocab.stoi[\"<unk>\"]) for token in tokens]\n",
    "\n",
    "    # Create input tensor\n",
    "    input_tensor = torch.tensor([token_ids]).to(device)\n",
    "\n",
    "    # Make predictions\n",
    "    model.eval() \n",
    "    with torch.no_grad():\n",
    "        outputs = model(input_tensor)\n",
    "        predictions = torch.argmax(outputs, dim=-1).cpu().numpy().flatten()\n",
    "\n",
    "    # Convert indices to labels\n",
    "    predicted_labels = [label_vocab.itos[idx] for idx in predictions]\n",
    "\n",
    "    return list(zip(tokens, predicted_labels))\n"
   ]
  },
  {
   "cell_type": "code",
   "execution_count": null,
   "metadata": {
    "execution": {
     "iopub.execute_input": "2024-12-28T18:50:22.647080Z",
     "iopub.status.busy": "2024-12-28T18:50:22.646892Z",
     "iopub.status.idle": "2024-12-28T18:50:22.716342Z",
     "shell.execute_reply": "2024-12-28T18:50:22.715562Z",
     "shell.execute_reply.started": "2024-12-28T18:50:22.647064Z"
    },
    "trusted": true
   },
   "outputs": [
    {
     "name": "stdout",
     "output_type": "stream",
     "text": [
      "CASE:: O\n",
      "A: O\n",
      "34-year-old: B-Age\n",
      "woman: B-Sex\n",
      "with: O\n",
      "no: B-History\n",
      "significant: I-History\n",
      "past: I-History\n",
      "medical: I-History\n",
      "history: I-History\n",
      "presented: B-Clinical_event\n",
      "with: O\n",
      "a: O\n",
      "4-month: B-Duration\n",
      "history: O\n",
      "of: O\n",
      "intermittent: B-History\n",
      "episodes: O\n",
      "of: O\n",
      "chest: B-Biological_structure\n",
      "discomfort.: O\n",
      "The: O\n",
      "symptoms: B-Sign_symptom\n",
      "occurred: O\n",
      "predominantly: B-Lab_value\n",
      "during: O\n",
      "physical: B-Diagnostic_procedure\n",
      "exertion,: O\n",
      "lasted: O\n",
      "between: O\n",
      "10: B-Date\n",
      "to: O\n",
      "15: B-Date\n",
      "minutes,: O\n",
      "and: O\n",
      "were: O\n",
      "occasionally: O\n",
      "accompanied: O\n",
      "by: O\n",
      "lightheadedness: O\n",
      "and: O\n",
      "sweating.: O\n",
      "Physical: B-Diagnostic_procedure\n",
      "examination: I-Diagnostic_procedure\n",
      "revealed: O\n",
      "a: O\n",
      "mid-systolic: O\n",
      "click: O\n",
      "followed: O\n",
      "by: O\n",
      "a: O\n",
      "late: B-Detailed_description\n",
      "systolic: I-Sign_symptom\n",
      "murmur,: O\n",
      "best: O\n",
      "heard: O\n",
      "at: O\n",
      "the: O\n",
      "apex,: O\n",
      "consistent: O\n",
      "with: O\n",
      "mitral: B-Diagnostic_procedure\n",
      "valve: I-Diagnostic_procedure\n",
      "prolapse.: O\n",
      "No: O\n",
      "other: B-Lab_value\n",
      "abnormal: I-Lab_value\n",
      "findings: I-Diagnostic_procedure\n",
      "were: O\n",
      "noted: O\n",
      "on: O\n",
      "examination.: O\n",
      "A: O\n",
      "12-lead: B-Detailed_description\n",
      "electrocardiogram: B-Diagnostic_procedure\n",
      "(ECG): O\n",
      "showed: O\n",
      "occasional: B-Detailed_description\n",
      "premature: B-Sign_symptom\n",
      "ventricular: B-Biological_structure\n",
      "contractions: B-Sign_symptom\n",
      "(PVCs): O\n",
      "and: O\n",
      "mild: B-Severity\n",
      "ST-segment: B-Sign_symptom\n",
      "depression: I-Sign_symptom\n",
      "in: O\n",
      "leads: B-Diagnostic_procedure\n",
      "II,: O\n",
      "III,: O\n",
      "and: O\n",
      "aVF.: O\n",
      "Transthoracic: B-Diagnostic_procedure\n",
      "echocardiography: I-Diagnostic_procedure\n",
      "demonstrated: O\n",
      "thickening: B-Sign_symptom\n",
      "of: O\n",
      "the: O\n",
      "mitral: B-Biological_structure\n",
      "valve: I-Biological_structure\n",
      "leaflets: I-Biological_structure\n",
      "and: O\n",
      "moderate: B-Severity\n",
      "mitral: B-Disease_disorder\n",
      "regurgitation.: O\n",
      "Color: O\n",
      "Doppler: B-Diagnostic_procedure\n",
      "imaging: I-Diagnostic_procedure\n",
      "confirmed: O\n",
      "eccentric: B-Sign_symptom\n",
      "regurgitant: O\n",
      "flow: O\n",
      "directed: B-Diagnostic_procedure\n",
      "posteriorly.: O\n",
      "Further: O\n",
      "investigation: O\n",
      "with: O\n",
      "cardiac: B-Biological_structure\n",
      "magnetic: I-Diagnostic_procedure\n",
      "resonance: I-Diagnostic_procedure\n",
      "imaging: I-Diagnostic_procedure\n",
      "(MRI): O\n",
      "revealed: O\n",
      "localized: O\n",
      "fibrosis: B-Sign_symptom\n",
      "of: O\n",
      "the: O\n",
      "posterolateral: O\n",
      "left: B-Biological_structure\n",
      "ventricular: I-Biological_structure\n",
      "wall,: O\n",
      "raising: O\n",
      "suspicion: O\n",
      "of: O\n",
      "early-stage: B-Diagnostic_procedure\n",
      "arrhythmogenic: O\n",
      "cardiomyopathy.: O\n",
      "Coronary: B-Biological_structure\n",
      "angiography: I-Diagnostic_procedure\n",
      "ruled: O\n",
      "out: O\n",
      "significant: O\n",
      "coronary: B-Disease_disorder\n",
      "artery: I-Disease_disorder\n",
      "disease.: O\n",
      "The: O\n",
      "patient: O\n",
      "was: O\n",
      "managed: O\n",
      "with: O\n",
      "lifestyle: O\n",
      "modifications,: O\n",
      "including: O\n",
      "exercise: B-Diagnostic_procedure\n",
      "restriction,: O\n",
      "and: O\n",
      "initiated: O\n",
      "on: O\n",
      "a: O\n",
      "beta-blocker: B-Diagnostic_procedure\n",
      "(metoprolol): O\n",
      "to: O\n",
      "control: O\n",
      "symptomatic: B-Lab_value\n",
      "PVCs.: O\n",
      "Additionally,: O\n",
      "she: O\n",
      "was: O\n",
      "referred: B-Clinical_event\n",
      "for: O\n",
      "genetic: B-Diagnostic_procedure\n",
      "testing: O\n",
      "to: O\n",
      "evaluate: O\n",
      "potential: O\n",
      "inherited: B-Detailed_description\n",
      "cardiomyopathies.: O\n",
      "At: O\n",
      "her: O\n",
      "3-month: B-Date\n",
      "follow-up,: O\n",
      "she: O\n",
      "reported: O\n",
      "significant: O\n",
      "improvement: I-Lab_value\n",
      "in: O\n",
      "symptoms,: O\n",
      "with: O\n",
      "no: O\n",
      "further: O\n",
      "episodes: O\n",
      "of: O\n",
      "chest: B-Biological_structure\n",
      "pain: B-Sign_symptom\n",
      "or: O\n",
      "lightheadedness.: O\n",
      "Follow-up: O\n",
      "imaging: B-Diagnostic_procedure\n",
      "demonstrated: O\n",
      "stable: B-Lab_value\n",
      "findings: O\n",
      "without: O\n",
      "progression: B-Sign_symptom\n",
      "of: I-Sign_symptom\n",
      "left: I-Sign_symptom\n",
      "ventricular: I-Sign_symptom\n",
      "dysfunction.: O\n"
     ]
    },
    {
     "name": "stderr",
     "output_type": "stream",
     "text": [
      "<ipython-input-22-b8f685ae17f6>:5: FutureWarning: You are using `torch.load` with `weights_only=False` (the current default value), which uses the default pickle module implicitly. It is possible to construct malicious pickle data which will execute arbitrary code during unpickling (See https://github.com/pytorch/pytorch/blob/main/SECURITY.md#untrusted-models for more details). In a future release, the default value for `weights_only` will be flipped to `True`. This limits the functions that could be executed during unpickling. Arbitrary objects will no longer be allowed to be loaded via this mode unless they are explicitly allowlisted by the user via `torch.serialization.add_safe_globals`. We recommend you start setting `weights_only=True` for any use case where you don't have full control of the loaded file. Please open an issue on GitHub for any issues related to this experimental feature.\n",
      "  loaded_model.load_state_dict(torch.load(\"bilstm_ner_model.pth\"))\n"
     ]
    }
   ],
   "source": [
    "# Example usage\n",
    "file_path = \"/kaggle/input/test-file/test.txt\"\n",
    "loaded_model = BiLSTMNER(len(vocab), embed_dim, hidden_dim, num_classes)\n",
    "loaded_model.load_state_dict(torch.load(\"bilstm_ner_model.pth\"))\n",
    "loaded_model.to(device)\n",
    "\n",
    "predictions = predict_from_file(file_path, loaded_model, vocab, label_vocab, device)\n",
    "\n",
    "# Print predictions\n",
    "for token, label in predictions:\n",
    "    print(f\"{token}: {label}\")\n"
   ]
  }
 ],
 "metadata": {
  "kaggle": {
   "accelerator": "nvidiaTeslaT4",
   "dataSources": [
    {
     "datasetId": 6384252,
     "sourceId": 10312780,
     "sourceType": "datasetVersion"
    },
    {
     "datasetId": 6385928,
     "sourceId": 10315085,
     "sourceType": "datasetVersion"
    }
   ],
   "dockerImageVersionId": 30823,
   "isGpuEnabled": true,
   "isInternetEnabled": true,
   "language": "python",
   "sourceType": "notebook"
  },
  "kernelspec": {
   "display_name": "Python 3",
   "language": "python",
   "name": "python3"
  },
  "language_info": {
   "codemirror_mode": {
    "name": "ipython",
    "version": 3
   },
   "file_extension": ".py",
   "mimetype": "text/x-python",
   "name": "python",
   "nbconvert_exporter": "python",
   "pygments_lexer": "ipython3",
   "version": "3.10.12"
  }
 },
 "nbformat": 4,
 "nbformat_minor": 4
}
